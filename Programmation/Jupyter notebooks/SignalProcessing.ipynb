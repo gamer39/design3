{
 "cells": [
  {
   "attachments": {},
   "cell_type": "markdown",
   "metadata": {},
   "source": [
    "<img src=\"https://upload.wikimedia.org/wikipedia/fr/b/bf/Universit%C3%A9_Laval_logo_et_texte.svg\" width=200 align=\"right\"><br>\n",
    "<b> Projet de conception en génie physique GPH-3110 </b><br>\n",
    "<b> Département de physique, de génie physique et d'optique </b><br>\n",
    "<b> Hiver 2023 </b><br>\n",
    "<b> Université Laval </b><br>"
   ]
  },
  {
   "attachments": {},
   "cell_type": "markdown",
   "metadata": {},
   "source": [
    "<center><h1>Thermistor voltage - temperature simulation</h2></center>"
   ]
  },
  {
   "cell_type": "code",
   "execution_count": 1,
   "metadata": {},
   "outputs": [],
   "source": [
    "%matplotlib inline\n",
    "%config InlineBackend.figure_formats = \"svg\"\n",
    "\n",
    "import numpy as np\n",
    "from pandas import read_excel\n",
    "import matplotlib.pyplot as plt\n",
    "from scipy.optimize import curve_fit"
   ]
  },
  {
   "cell_type": "code",
   "execution_count": 2,
   "metadata": {},
   "outputs": [],
   "source": [
    "plt.rcParams.update(\n",
    "    {\n",
    "        \"lines.linewidth\": 1.5,\n",
    "        \"axes.labelsize\": \"x-large\",\n",
    "        \"axes.labelpad\": 10,\n",
    "        \"axes.grid\": True,\n",
    "        \"axes.grid.which\": \"both\",\n",
    "        \"grid.linestyle\": \":\",\n",
    "        \"grid.color\": \"k\",\n",
    "        \"grid.alpha\": 0.5,\n",
    "        \"xtick.minor.visible\": True,\n",
    "        \"xtick.direction\": \"in\",\n",
    "        \"xtick.major.size\": 10,\n",
    "        \"xtick.major.width\": 1,\n",
    "        \"xtick.minor.size\": 5,\n",
    "        \"xtick.minor.width\": 0.5,\n",
    "        \"ytick.minor.visible\": True,\n",
    "        \"ytick.direction\": \"in\",\n",
    "        \"ytick.major.size\": 10,\n",
    "        \"ytick.major.width\": 1,\n",
    "        \"ytick.minor.size\": 5,\n",
    "        \"ytick.minor.width\": 0.5,\n",
    "    }\n",
    ")"
   ]
  },
  {
   "attachments": {},
   "cell_type": "markdown",
   "metadata": {},
   "source": [
    "## Steinhart-Hart equation"
   ]
  },
  {
   "attachments": {},
   "cell_type": "markdown",
   "metadata": {},
   "source": [
    "The Steinhart-Hart equation is a model of the resistance $R$ of a semiconductor at different temperatures $T$. The equation is\n",
    "\\begin{gather}\n",
    "    \\frac{1}{T}=A+B\\ln{R}+C\\ln(R)^2+D(\\ln{R})^3 \\ ,\n",
    "\\end{gather}"
   ]
  },
  {
   "attachments": {},
   "cell_type": "markdown",
   "metadata": {},
   "source": [
    "### Find $A$, $B$, $C$ and $D$ with curve fit"
   ]
  },
  {
   "attachments": {},
   "cell_type": "markdown",
   "metadata": {},
   "source": [
    "#### Extract thermistor data from datasheet"
   ]
  },
  {
   "cell_type": "code",
   "execution_count": 3,
   "metadata": {},
   "outputs": [],
   "source": [
    "data = read_excel(\n",
    "    \"NDBG104F3435B2F.xlsx\",\n",
    "    header=3,\n",
    "    dtype=float,\n",
    "    names=[\"temp\", \"res\"],\n",
    ")\n",
    "data = data.to_numpy()\n",
    "temp = data[:,0] + 273.15   # convert temperature to absolute temperature\n",
    "res = data[:,1]*1000        # resistance values in kOhm"
   ]
  },
  {
   "attachments": {},
   "cell_type": "markdown",
   "metadata": {},
   "source": [
    "#### Define Steinhart-Hart equations"
   ]
  },
  {
   "cell_type": "code",
   "execution_count": 4,
   "metadata": {},
   "outputs": [],
   "source": [
    "def steinhart_hart(R: float, A: float, B: float, C: float, D: float) -> float:\n",
    "    \"\"\"Calculate thermistor temperature with Steinhart-Hart equation.\n",
    "\n",
    "    Parameters:\n",
    "    -----------\n",
    "        R : float\n",
    "            Thermistor resistance.\n",
    "        A : float\n",
    "            Steinhart-Hart \"A\" coefficient.\n",
    "        B float\n",
    "            Steinhart-Hart \"B\" coefficient.\n",
    "        C float\n",
    "            Steinhart-Hart \"C\" coefficient.\n",
    "        D float\n",
    "            Steinhart-Hart \"D\" coefficient.\n",
    "\n",
    "    Returns:\n",
    "    --------\n",
    "        T : float\n",
    "            Thermistor temperature in kelvin.\n",
    "\n",
    "    \"\"\"\n",
    "    T = A + B*np.log(R) + C*np.log(R)**2 + D*np.log(R)**3\n",
    "    T = T**-1\n",
    "    return T"
   ]
  },
  {
   "attachments": {},
   "cell_type": "markdown",
   "metadata": {},
   "source": [
    "#### Curve fit data"
   ]
  },
  {
   "cell_type": "code",
   "execution_count": 5,
   "metadata": {},
   "outputs": [
    {
     "name": "stdout",
     "output_type": "stream",
     "text": [
      "Coeffs: [ 1.16462122e-03  1.68263967e-04  8.40211371e-06 -1.00119948e-07]\n"
     ]
    }
   ],
   "source": [
    "p0 = [1e-4, 1e-4, 1e-6, 1e-7]  # Guess initial values\n",
    "popt, _ = curve_fit(steinhart_hart, res, temp, p0=p0, maxfev=5000)\n",
    "print(\"Coeffs: {}\".format(popt))"
   ]
  },
  {
   "attachments": {},
   "cell_type": "markdown",
   "metadata": {},
   "source": [
    "#### Plot fitted data"
   ]
  },
  {
   "cell_type": "code",
   "execution_count": 6,
   "metadata": {},
   "outputs": [
    {
     "data": {
      "image/svg+xml": "<?xml version=\"1.0\" encoding=\"utf-8\" standalone=\"no\"?>\n<!DOCTYPE svg PUBLIC \"-//W3C//DTD SVG 1.1//EN\"\n  \"http://www.w3.org/Graphics/SVG/1.1/DTD/svg11.dtd\">\n<svg xmlns:xlink=\"http://www.w3.org/1999/xlink\" width=\"418.044pt\" height=\"317.658125pt\" viewBox=\"0 0 418.044 317.658125\" xmlns=\"http://www.w3.org/2000/svg\" version=\"1.1\">\n <metadata>\n  <rdf:RDF xmlns:dc=\"http://purl.org/dc/elements/1.1/\" xmlns:cc=\"http://creativecommons.org/ns#\" xmlns:rdf=\"http://www.w3.org/1999/02/22-rdf-syntax-ns#\">\n   <cc:Work>\n    <dc:type rdf:resource=\"http://purl.org/dc/dcmitype/StillImage\"/>\n    <dc:date>2023-02-07T09:54:06.623209</dc:date>\n    <dc:format>image/svg+xml</dc:format>\n    <dc:creator>\n     <cc:Agent>\n      <dc:title>Matplotlib v3.6.3, https://matplotlib.org/</dc:title>\n     </cc:Agent>\n    </dc:creator>\n   </cc:Work>\n  </rdf:RDF>\n </metadata>\n <defs>\n  <style type=\"text/css\">*{stroke-linejoin: round; stroke-linecap: butt}</style>\n </defs>\n <g id=\"figure_1\">\n  <g id=\"patch_1\">\n   <path d=\"M 0 317.658125 \nL 418.044 317.658125 \nL 418.044 0 \nL 0 0 \nz\n\" style=\"fill: #ffffff\"/>\n  </g>\n  <g id=\"axes_1\">\n   <g id=\"patch_2\">\n    <path d=\"M 53.724 273.312 \nL 410.844 273.312 \nL 410.844 7.2 \nL 53.724 7.2 \nz\n\" style=\"fill: #ffffff\"/>\n   </g>\n   <g id=\"matplotlib.axis_1\">\n    <g id=\"xtick_1\">\n     <g id=\"line2d_1\">\n      <path d=\"M 59.340038 273.312 \nL 59.340038 7.2 \n\" clip-path=\"url(#p45044b8f94)\" style=\"fill: none; stroke-dasharray: 0.8,1.32; stroke-dashoffset: 0; stroke: #000000; stroke-opacity: 0.5; stroke-width: 0.8\"/>\n     </g>\n     <g id=\"line2d_2\">\n      <defs>\n       <path id=\"md9d06094de\" d=\"M 0 0 \nL 0 -10 \n\" style=\"stroke: #000000\"/>\n      </defs>\n      <g>\n       <use xlink:href=\"#md9d06094de\" x=\"59.340038\" y=\"273.312\" style=\"stroke: #000000\"/>\n      </g>\n     </g>\n     <g id=\"text_1\">\n      <!-- −50 -->\n      <g transform=\"translate(48.787694 284.410437) scale(0.1 -0.1)\">\n       <defs>\n        <path id=\"DejaVuSans-2212\" d=\"M 678 2272 \nL 4684 2272 \nL 4684 1741 \nL 678 1741 \nL 678 2272 \nz\n\" transform=\"scale(0.015625)\"/>\n        <path id=\"DejaVuSans-35\" d=\"M 691 4666 \nL 3169 4666 \nL 3169 4134 \nL 1269 4134 \nL 1269 2991 \nQ 1406 3038 1543 3061 \nQ 1681 3084 1819 3084 \nQ 2600 3084 3056 2656 \nQ 3513 2228 3513 1497 \nQ 3513 744 3044 326 \nQ 2575 -91 1722 -91 \nQ 1428 -91 1123 -41 \nQ 819 9 494 109 \nL 494 744 \nQ 775 591 1075 516 \nQ 1375 441 1709 441 \nQ 2250 441 2565 725 \nQ 2881 1009 2881 1497 \nQ 2881 1984 2565 2268 \nQ 2250 2553 1709 2553 \nQ 1456 2553 1204 2497 \nQ 953 2441 691 2322 \nL 691 4666 \nz\n\" transform=\"scale(0.015625)\"/>\n        <path id=\"DejaVuSans-30\" d=\"M 2034 4250 \nQ 1547 4250 1301 3770 \nQ 1056 3291 1056 2328 \nQ 1056 1369 1301 889 \nQ 1547 409 2034 409 \nQ 2525 409 2770 889 \nQ 3016 1369 3016 2328 \nQ 3016 3291 2770 3770 \nQ 2525 4250 2034 4250 \nz\nM 2034 4750 \nQ 2819 4750 3233 4129 \nQ 3647 3509 3647 2328 \nQ 3647 1150 3233 529 \nQ 2819 -91 2034 -91 \nQ 1250 -91 836 529 \nQ 422 1150 422 2328 \nQ 422 3509 836 4129 \nQ 1250 4750 2034 4750 \nz\n\" transform=\"scale(0.015625)\"/>\n       </defs>\n       <use xlink:href=\"#DejaVuSans-2212\"/>\n       <use xlink:href=\"#DejaVuSans-35\" x=\"83.789062\"/>\n       <use xlink:href=\"#DejaVuSans-30\" x=\"147.412109\"/>\n      </g>\n     </g>\n    </g>\n    <g id=\"xtick_2\">\n     <g id=\"line2d_3\">\n      <path d=\"M 115.218577 273.312 \nL 115.218577 7.2 \n\" clip-path=\"url(#p45044b8f94)\" style=\"fill: none; stroke-dasharray: 0.8,1.32; stroke-dashoffset: 0; stroke: #000000; stroke-opacity: 0.5; stroke-width: 0.8\"/>\n     </g>\n     <g id=\"line2d_4\">\n      <g>\n       <use xlink:href=\"#md9d06094de\" x=\"115.218577\" y=\"273.312\" style=\"stroke: #000000\"/>\n      </g>\n     </g>\n     <g id=\"text_2\">\n      <!-- 0 -->\n      <g transform=\"translate(112.037327 284.410437) scale(0.1 -0.1)\">\n       <use xlink:href=\"#DejaVuSans-30\"/>\n      </g>\n     </g>\n    </g>\n    <g id=\"xtick_3\">\n     <g id=\"line2d_5\">\n      <path d=\"M 171.097116 273.312 \nL 171.097116 7.2 \n\" clip-path=\"url(#p45044b8f94)\" style=\"fill: none; stroke-dasharray: 0.8,1.32; stroke-dashoffset: 0; stroke: #000000; stroke-opacity: 0.5; stroke-width: 0.8\"/>\n     </g>\n     <g id=\"line2d_6\">\n      <g>\n       <use xlink:href=\"#md9d06094de\" x=\"171.097116\" y=\"273.312\" style=\"stroke: #000000\"/>\n      </g>\n     </g>\n     <g id=\"text_3\">\n      <!-- 50 -->\n      <g transform=\"translate(164.734616 284.410437) scale(0.1 -0.1)\">\n       <use xlink:href=\"#DejaVuSans-35\"/>\n       <use xlink:href=\"#DejaVuSans-30\" x=\"63.623047\"/>\n      </g>\n     </g>\n    </g>\n    <g id=\"xtick_4\">\n     <g id=\"line2d_7\">\n      <path d=\"M 226.975655 273.312 \nL 226.975655 7.2 \n\" clip-path=\"url(#p45044b8f94)\" style=\"fill: none; stroke-dasharray: 0.8,1.32; stroke-dashoffset: 0; stroke: #000000; stroke-opacity: 0.5; stroke-width: 0.8\"/>\n     </g>\n     <g id=\"line2d_8\">\n      <g>\n       <use xlink:href=\"#md9d06094de\" x=\"226.975655\" y=\"273.312\" style=\"stroke: #000000\"/>\n      </g>\n     </g>\n     <g id=\"text_4\">\n      <!-- 100 -->\n      <g transform=\"translate(217.431905 284.410437) scale(0.1 -0.1)\">\n       <defs>\n        <path id=\"DejaVuSans-31\" d=\"M 794 531 \nL 1825 531 \nL 1825 4091 \nL 703 3866 \nL 703 4441 \nL 1819 4666 \nL 2450 4666 \nL 2450 531 \nL 3481 531 \nL 3481 0 \nL 794 0 \nL 794 531 \nz\n\" transform=\"scale(0.015625)\"/>\n       </defs>\n       <use xlink:href=\"#DejaVuSans-31\"/>\n       <use xlink:href=\"#DejaVuSans-30\" x=\"63.623047\"/>\n       <use xlink:href=\"#DejaVuSans-30\" x=\"127.246094\"/>\n      </g>\n     </g>\n    </g>\n    <g id=\"xtick_5\">\n     <g id=\"line2d_9\">\n      <path d=\"M 282.854194 273.312 \nL 282.854194 7.2 \n\" clip-path=\"url(#p45044b8f94)\" style=\"fill: none; stroke-dasharray: 0.8,1.32; stroke-dashoffset: 0; stroke: #000000; stroke-opacity: 0.5; stroke-width: 0.8\"/>\n     </g>\n     <g id=\"line2d_10\">\n      <g>\n       <use xlink:href=\"#md9d06094de\" x=\"282.854194\" y=\"273.312\" style=\"stroke: #000000\"/>\n      </g>\n     </g>\n     <g id=\"text_5\">\n      <!-- 150 -->\n      <g transform=\"translate(273.310444 284.410437) scale(0.1 -0.1)\">\n       <use xlink:href=\"#DejaVuSans-31\"/>\n       <use xlink:href=\"#DejaVuSans-35\" x=\"63.623047\"/>\n       <use xlink:href=\"#DejaVuSans-30\" x=\"127.246094\"/>\n      </g>\n     </g>\n    </g>\n    <g id=\"xtick_6\">\n     <g id=\"line2d_11\">\n      <path d=\"M 338.732734 273.312 \nL 338.732734 7.2 \n\" clip-path=\"url(#p45044b8f94)\" style=\"fill: none; stroke-dasharray: 0.8,1.32; stroke-dashoffset: 0; stroke: #000000; stroke-opacity: 0.5; stroke-width: 0.8\"/>\n     </g>\n     <g id=\"line2d_12\">\n      <g>\n       <use xlink:href=\"#md9d06094de\" x=\"338.732734\" y=\"273.312\" style=\"stroke: #000000\"/>\n      </g>\n     </g>\n     <g id=\"text_6\">\n      <!-- 200 -->\n      <g transform=\"translate(329.188984 284.410437) scale(0.1 -0.1)\">\n       <defs>\n        <path id=\"DejaVuSans-32\" d=\"M 1228 531 \nL 3431 531 \nL 3431 0 \nL 469 0 \nL 469 531 \nQ 828 903 1448 1529 \nQ 2069 2156 2228 2338 \nQ 2531 2678 2651 2914 \nQ 2772 3150 2772 3378 \nQ 2772 3750 2511 3984 \nQ 2250 4219 1831 4219 \nQ 1534 4219 1204 4116 \nQ 875 4013 500 3803 \nL 500 4441 \nQ 881 4594 1212 4672 \nQ 1544 4750 1819 4750 \nQ 2544 4750 2975 4387 \nQ 3406 4025 3406 3419 \nQ 3406 3131 3298 2873 \nQ 3191 2616 2906 2266 \nQ 2828 2175 2409 1742 \nQ 1991 1309 1228 531 \nz\n\" transform=\"scale(0.015625)\"/>\n       </defs>\n       <use xlink:href=\"#DejaVuSans-32\"/>\n       <use xlink:href=\"#DejaVuSans-30\" x=\"63.623047\"/>\n       <use xlink:href=\"#DejaVuSans-30\" x=\"127.246094\"/>\n      </g>\n     </g>\n    </g>\n    <g id=\"xtick_7\">\n     <g id=\"line2d_13\">\n      <path d=\"M 394.611273 273.312 \nL 394.611273 7.2 \n\" clip-path=\"url(#p45044b8f94)\" style=\"fill: none; stroke-dasharray: 0.8,1.32; stroke-dashoffset: 0; stroke: #000000; stroke-opacity: 0.5; stroke-width: 0.8\"/>\n     </g>\n     <g id=\"line2d_14\">\n      <g>\n       <use xlink:href=\"#md9d06094de\" x=\"394.611273\" y=\"273.312\" style=\"stroke: #000000\"/>\n      </g>\n     </g>\n     <g id=\"text_7\">\n      <!-- 250 -->\n      <g transform=\"translate(385.067523 284.410437) scale(0.1 -0.1)\">\n       <use xlink:href=\"#DejaVuSans-32\"/>\n       <use xlink:href=\"#DejaVuSans-35\" x=\"63.623047\"/>\n       <use xlink:href=\"#DejaVuSans-30\" x=\"127.246094\"/>\n      </g>\n     </g>\n    </g>\n    <g id=\"xtick_8\">\n     <g id=\"line2d_15\">\n      <path d=\"M 70.515746 273.312 \nL 70.515746 7.2 \n\" clip-path=\"url(#p45044b8f94)\" style=\"fill: none; stroke-dasharray: 0.8,1.32; stroke-dashoffset: 0; stroke: #000000; stroke-opacity: 0.5; stroke-width: 0.8\"/>\n     </g>\n     <g id=\"line2d_16\">\n      <defs>\n       <path id=\"m0d18951551\" d=\"M 0 0 \nL 0 -5 \n\" style=\"stroke: #000000; stroke-width: 0.5\"/>\n      </defs>\n      <g>\n       <use xlink:href=\"#m0d18951551\" x=\"70.515746\" y=\"273.312\" style=\"stroke: #000000; stroke-width: 0.5\"/>\n      </g>\n     </g>\n    </g>\n    <g id=\"xtick_9\">\n     <g id=\"line2d_17\">\n      <path d=\"M 81.691453 273.312 \nL 81.691453 7.2 \n\" clip-path=\"url(#p45044b8f94)\" style=\"fill: none; stroke-dasharray: 0.8,1.32; stroke-dashoffset: 0; stroke: #000000; stroke-opacity: 0.5; stroke-width: 0.8\"/>\n     </g>\n     <g id=\"line2d_18\">\n      <g>\n       <use xlink:href=\"#m0d18951551\" x=\"81.691453\" y=\"273.312\" style=\"stroke: #000000; stroke-width: 0.5\"/>\n      </g>\n     </g>\n    </g>\n    <g id=\"xtick_10\">\n     <g id=\"line2d_19\">\n      <path d=\"M 92.867161 273.312 \nL 92.867161 7.2 \n\" clip-path=\"url(#p45044b8f94)\" style=\"fill: none; stroke-dasharray: 0.8,1.32; stroke-dashoffset: 0; stroke: #000000; stroke-opacity: 0.5; stroke-width: 0.8\"/>\n     </g>\n     <g id=\"line2d_20\">\n      <g>\n       <use xlink:href=\"#m0d18951551\" x=\"92.867161\" y=\"273.312\" style=\"stroke: #000000; stroke-width: 0.5\"/>\n      </g>\n     </g>\n    </g>\n    <g id=\"xtick_11\">\n     <g id=\"line2d_21\">\n      <path d=\"M 104.042869 273.312 \nL 104.042869 7.2 \n\" clip-path=\"url(#p45044b8f94)\" style=\"fill: none; stroke-dasharray: 0.8,1.32; stroke-dashoffset: 0; stroke: #000000; stroke-opacity: 0.5; stroke-width: 0.8\"/>\n     </g>\n     <g id=\"line2d_22\">\n      <g>\n       <use xlink:href=\"#m0d18951551\" x=\"104.042869\" y=\"273.312\" style=\"stroke: #000000; stroke-width: 0.5\"/>\n      </g>\n     </g>\n    </g>\n    <g id=\"xtick_12\">\n     <g id=\"line2d_23\">\n      <path d=\"M 126.394285 273.312 \nL 126.394285 7.2 \n\" clip-path=\"url(#p45044b8f94)\" style=\"fill: none; stroke-dasharray: 0.8,1.32; stroke-dashoffset: 0; stroke: #000000; stroke-opacity: 0.5; stroke-width: 0.8\"/>\n     </g>\n     <g id=\"line2d_24\">\n      <g>\n       <use xlink:href=\"#m0d18951551\" x=\"126.394285\" y=\"273.312\" style=\"stroke: #000000; stroke-width: 0.5\"/>\n      </g>\n     </g>\n    </g>\n    <g id=\"xtick_13\">\n     <g id=\"line2d_25\">\n      <path d=\"M 137.569993 273.312 \nL 137.569993 7.2 \n\" clip-path=\"url(#p45044b8f94)\" style=\"fill: none; stroke-dasharray: 0.8,1.32; stroke-dashoffset: 0; stroke: #000000; stroke-opacity: 0.5; stroke-width: 0.8\"/>\n     </g>\n     <g id=\"line2d_26\">\n      <g>\n       <use xlink:href=\"#m0d18951551\" x=\"137.569993\" y=\"273.312\" style=\"stroke: #000000; stroke-width: 0.5\"/>\n      </g>\n     </g>\n    </g>\n    <g id=\"xtick_14\">\n     <g id=\"line2d_27\">\n      <path d=\"M 148.7457 273.312 \nL 148.7457 7.2 \n\" clip-path=\"url(#p45044b8f94)\" style=\"fill: none; stroke-dasharray: 0.8,1.32; stroke-dashoffset: 0; stroke: #000000; stroke-opacity: 0.5; stroke-width: 0.8\"/>\n     </g>\n     <g id=\"line2d_28\">\n      <g>\n       <use xlink:href=\"#m0d18951551\" x=\"148.7457\" y=\"273.312\" style=\"stroke: #000000; stroke-width: 0.5\"/>\n      </g>\n     </g>\n    </g>\n    <g id=\"xtick_15\">\n     <g id=\"line2d_29\">\n      <path d=\"M 159.921408 273.312 \nL 159.921408 7.2 \n\" clip-path=\"url(#p45044b8f94)\" style=\"fill: none; stroke-dasharray: 0.8,1.32; stroke-dashoffset: 0; stroke: #000000; stroke-opacity: 0.5; stroke-width: 0.8\"/>\n     </g>\n     <g id=\"line2d_30\">\n      <g>\n       <use xlink:href=\"#m0d18951551\" x=\"159.921408\" y=\"273.312\" style=\"stroke: #000000; stroke-width: 0.5\"/>\n      </g>\n     </g>\n    </g>\n    <g id=\"xtick_16\">\n     <g id=\"line2d_31\">\n      <path d=\"M 182.272824 273.312 \nL 182.272824 7.2 \n\" clip-path=\"url(#p45044b8f94)\" style=\"fill: none; stroke-dasharray: 0.8,1.32; stroke-dashoffset: 0; stroke: #000000; stroke-opacity: 0.5; stroke-width: 0.8\"/>\n     </g>\n     <g id=\"line2d_32\">\n      <g>\n       <use xlink:href=\"#m0d18951551\" x=\"182.272824\" y=\"273.312\" style=\"stroke: #000000; stroke-width: 0.5\"/>\n      </g>\n     </g>\n    </g>\n    <g id=\"xtick_17\">\n     <g id=\"line2d_33\">\n      <path d=\"M 193.448532 273.312 \nL 193.448532 7.2 \n\" clip-path=\"url(#p45044b8f94)\" style=\"fill: none; stroke-dasharray: 0.8,1.32; stroke-dashoffset: 0; stroke: #000000; stroke-opacity: 0.5; stroke-width: 0.8\"/>\n     </g>\n     <g id=\"line2d_34\">\n      <g>\n       <use xlink:href=\"#m0d18951551\" x=\"193.448532\" y=\"273.312\" style=\"stroke: #000000; stroke-width: 0.5\"/>\n      </g>\n     </g>\n    </g>\n    <g id=\"xtick_18\">\n     <g id=\"line2d_35\">\n      <path d=\"M 204.62424 273.312 \nL 204.62424 7.2 \n\" clip-path=\"url(#p45044b8f94)\" style=\"fill: none; stroke-dasharray: 0.8,1.32; stroke-dashoffset: 0; stroke: #000000; stroke-opacity: 0.5; stroke-width: 0.8\"/>\n     </g>\n     <g id=\"line2d_36\">\n      <g>\n       <use xlink:href=\"#m0d18951551\" x=\"204.62424\" y=\"273.312\" style=\"stroke: #000000; stroke-width: 0.5\"/>\n      </g>\n     </g>\n    </g>\n    <g id=\"xtick_19\">\n     <g id=\"line2d_37\">\n      <path d=\"M 215.799947 273.312 \nL 215.799947 7.2 \n\" clip-path=\"url(#p45044b8f94)\" style=\"fill: none; stroke-dasharray: 0.8,1.32; stroke-dashoffset: 0; stroke: #000000; stroke-opacity: 0.5; stroke-width: 0.8\"/>\n     </g>\n     <g id=\"line2d_38\">\n      <g>\n       <use xlink:href=\"#m0d18951551\" x=\"215.799947\" y=\"273.312\" style=\"stroke: #000000; stroke-width: 0.5\"/>\n      </g>\n     </g>\n    </g>\n    <g id=\"xtick_20\">\n     <g id=\"line2d_39\">\n      <path d=\"M 238.151363 273.312 \nL 238.151363 7.2 \n\" clip-path=\"url(#p45044b8f94)\" style=\"fill: none; stroke-dasharray: 0.8,1.32; stroke-dashoffset: 0; stroke: #000000; stroke-opacity: 0.5; stroke-width: 0.8\"/>\n     </g>\n     <g id=\"line2d_40\">\n      <g>\n       <use xlink:href=\"#m0d18951551\" x=\"238.151363\" y=\"273.312\" style=\"stroke: #000000; stroke-width: 0.5\"/>\n      </g>\n     </g>\n    </g>\n    <g id=\"xtick_21\">\n     <g id=\"line2d_41\">\n      <path d=\"M 249.327071 273.312 \nL 249.327071 7.2 \n\" clip-path=\"url(#p45044b8f94)\" style=\"fill: none; stroke-dasharray: 0.8,1.32; stroke-dashoffset: 0; stroke: #000000; stroke-opacity: 0.5; stroke-width: 0.8\"/>\n     </g>\n     <g id=\"line2d_42\">\n      <g>\n       <use xlink:href=\"#m0d18951551\" x=\"249.327071\" y=\"273.312\" style=\"stroke: #000000; stroke-width: 0.5\"/>\n      </g>\n     </g>\n    </g>\n    <g id=\"xtick_22\">\n     <g id=\"line2d_43\">\n      <path d=\"M 260.502779 273.312 \nL 260.502779 7.2 \n\" clip-path=\"url(#p45044b8f94)\" style=\"fill: none; stroke-dasharray: 0.8,1.32; stroke-dashoffset: 0; stroke: #000000; stroke-opacity: 0.5; stroke-width: 0.8\"/>\n     </g>\n     <g id=\"line2d_44\">\n      <g>\n       <use xlink:href=\"#m0d18951551\" x=\"260.502779\" y=\"273.312\" style=\"stroke: #000000; stroke-width: 0.5\"/>\n      </g>\n     </g>\n    </g>\n    <g id=\"xtick_23\">\n     <g id=\"line2d_45\">\n      <path d=\"M 271.678487 273.312 \nL 271.678487 7.2 \n\" clip-path=\"url(#p45044b8f94)\" style=\"fill: none; stroke-dasharray: 0.8,1.32; stroke-dashoffset: 0; stroke: #000000; stroke-opacity: 0.5; stroke-width: 0.8\"/>\n     </g>\n     <g id=\"line2d_46\">\n      <g>\n       <use xlink:href=\"#m0d18951551\" x=\"271.678487\" y=\"273.312\" style=\"stroke: #000000; stroke-width: 0.5\"/>\n      </g>\n     </g>\n    </g>\n    <g id=\"xtick_24\">\n     <g id=\"line2d_47\">\n      <path d=\"M 294.029902 273.312 \nL 294.029902 7.2 \n\" clip-path=\"url(#p45044b8f94)\" style=\"fill: none; stroke-dasharray: 0.8,1.32; stroke-dashoffset: 0; stroke: #000000; stroke-opacity: 0.5; stroke-width: 0.8\"/>\n     </g>\n     <g id=\"line2d_48\">\n      <g>\n       <use xlink:href=\"#m0d18951551\" x=\"294.029902\" y=\"273.312\" style=\"stroke: #000000; stroke-width: 0.5\"/>\n      </g>\n     </g>\n    </g>\n    <g id=\"xtick_25\">\n     <g id=\"line2d_49\">\n      <path d=\"M 305.20561 273.312 \nL 305.20561 7.2 \n\" clip-path=\"url(#p45044b8f94)\" style=\"fill: none; stroke-dasharray: 0.8,1.32; stroke-dashoffset: 0; stroke: #000000; stroke-opacity: 0.5; stroke-width: 0.8\"/>\n     </g>\n     <g id=\"line2d_50\">\n      <g>\n       <use xlink:href=\"#m0d18951551\" x=\"305.20561\" y=\"273.312\" style=\"stroke: #000000; stroke-width: 0.5\"/>\n      </g>\n     </g>\n    </g>\n    <g id=\"xtick_26\">\n     <g id=\"line2d_51\">\n      <path d=\"M 316.381318 273.312 \nL 316.381318 7.2 \n\" clip-path=\"url(#p45044b8f94)\" style=\"fill: none; stroke-dasharray: 0.8,1.32; stroke-dashoffset: 0; stroke: #000000; stroke-opacity: 0.5; stroke-width: 0.8\"/>\n     </g>\n     <g id=\"line2d_52\">\n      <g>\n       <use xlink:href=\"#m0d18951551\" x=\"316.381318\" y=\"273.312\" style=\"stroke: #000000; stroke-width: 0.5\"/>\n      </g>\n     </g>\n    </g>\n    <g id=\"xtick_27\">\n     <g id=\"line2d_53\">\n      <path d=\"M 327.557026 273.312 \nL 327.557026 7.2 \n\" clip-path=\"url(#p45044b8f94)\" style=\"fill: none; stroke-dasharray: 0.8,1.32; stroke-dashoffset: 0; stroke: #000000; stroke-opacity: 0.5; stroke-width: 0.8\"/>\n     </g>\n     <g id=\"line2d_54\">\n      <g>\n       <use xlink:href=\"#m0d18951551\" x=\"327.557026\" y=\"273.312\" style=\"stroke: #000000; stroke-width: 0.5\"/>\n      </g>\n     </g>\n    </g>\n    <g id=\"xtick_28\">\n     <g id=\"line2d_55\">\n      <path d=\"M 349.908441 273.312 \nL 349.908441 7.2 \n\" clip-path=\"url(#p45044b8f94)\" style=\"fill: none; stroke-dasharray: 0.8,1.32; stroke-dashoffset: 0; stroke: #000000; stroke-opacity: 0.5; stroke-width: 0.8\"/>\n     </g>\n     <g id=\"line2d_56\">\n      <g>\n       <use xlink:href=\"#m0d18951551\" x=\"349.908441\" y=\"273.312\" style=\"stroke: #000000; stroke-width: 0.5\"/>\n      </g>\n     </g>\n    </g>\n    <g id=\"xtick_29\">\n     <g id=\"line2d_57\">\n      <path d=\"M 361.084149 273.312 \nL 361.084149 7.2 \n\" clip-path=\"url(#p45044b8f94)\" style=\"fill: none; stroke-dasharray: 0.8,1.32; stroke-dashoffset: 0; stroke: #000000; stroke-opacity: 0.5; stroke-width: 0.8\"/>\n     </g>\n     <g id=\"line2d_58\">\n      <g>\n       <use xlink:href=\"#m0d18951551\" x=\"361.084149\" y=\"273.312\" style=\"stroke: #000000; stroke-width: 0.5\"/>\n      </g>\n     </g>\n    </g>\n    <g id=\"xtick_30\">\n     <g id=\"line2d_59\">\n      <path d=\"M 372.259857 273.312 \nL 372.259857 7.2 \n\" clip-path=\"url(#p45044b8f94)\" style=\"fill: none; stroke-dasharray: 0.8,1.32; stroke-dashoffset: 0; stroke: #000000; stroke-opacity: 0.5; stroke-width: 0.8\"/>\n     </g>\n     <g id=\"line2d_60\">\n      <g>\n       <use xlink:href=\"#m0d18951551\" x=\"372.259857\" y=\"273.312\" style=\"stroke: #000000; stroke-width: 0.5\"/>\n      </g>\n     </g>\n    </g>\n    <g id=\"xtick_31\">\n     <g id=\"line2d_61\">\n      <path d=\"M 383.435565 273.312 \nL 383.435565 7.2 \n\" clip-path=\"url(#p45044b8f94)\" style=\"fill: none; stroke-dasharray: 0.8,1.32; stroke-dashoffset: 0; stroke: #000000; stroke-opacity: 0.5; stroke-width: 0.8\"/>\n     </g>\n     <g id=\"line2d_62\">\n      <g>\n       <use xlink:href=\"#m0d18951551\" x=\"383.435565\" y=\"273.312\" style=\"stroke: #000000; stroke-width: 0.5\"/>\n      </g>\n     </g>\n    </g>\n    <g id=\"xtick_32\">\n     <g id=\"line2d_63\">\n      <path d=\"M 405.786981 273.312 \nL 405.786981 7.2 \n\" clip-path=\"url(#p45044b8f94)\" style=\"fill: none; stroke-dasharray: 0.8,1.32; stroke-dashoffset: 0; stroke: #000000; stroke-opacity: 0.5; stroke-width: 0.8\"/>\n     </g>\n     <g id=\"line2d_64\">\n      <g>\n       <use xlink:href=\"#m0d18951551\" x=\"405.786981\" y=\"273.312\" style=\"stroke: #000000; stroke-width: 0.5\"/>\n      </g>\n     </g>\n    </g>\n    <g id=\"text_8\">\n     <!-- Temperature [$\\degree$C] -->\n     <g transform=\"translate(168.708 307.434125) scale(0.144 -0.144)\">\n      <defs>\n       <path id=\"DejaVuSans-54\" d=\"M -19 4666 \nL 3928 4666 \nL 3928 4134 \nL 2272 4134 \nL 2272 0 \nL 1638 0 \nL 1638 4134 \nL -19 4134 \nL -19 4666 \nz\n\" transform=\"scale(0.015625)\"/>\n       <path id=\"DejaVuSans-65\" d=\"M 3597 1894 \nL 3597 1613 \nL 953 1613 \nQ 991 1019 1311 708 \nQ 1631 397 2203 397 \nQ 2534 397 2845 478 \nQ 3156 559 3463 722 \nL 3463 178 \nQ 3153 47 2828 -22 \nQ 2503 -91 2169 -91 \nQ 1331 -91 842 396 \nQ 353 884 353 1716 \nQ 353 2575 817 3079 \nQ 1281 3584 2069 3584 \nQ 2775 3584 3186 3129 \nQ 3597 2675 3597 1894 \nz\nM 3022 2063 \nQ 3016 2534 2758 2815 \nQ 2500 3097 2075 3097 \nQ 1594 3097 1305 2825 \nQ 1016 2553 972 2059 \nL 3022 2063 \nz\n\" transform=\"scale(0.015625)\"/>\n       <path id=\"DejaVuSans-6d\" d=\"M 3328 2828 \nQ 3544 3216 3844 3400 \nQ 4144 3584 4550 3584 \nQ 5097 3584 5394 3201 \nQ 5691 2819 5691 2113 \nL 5691 0 \nL 5113 0 \nL 5113 2094 \nQ 5113 2597 4934 2840 \nQ 4756 3084 4391 3084 \nQ 3944 3084 3684 2787 \nQ 3425 2491 3425 1978 \nL 3425 0 \nL 2847 0 \nL 2847 2094 \nQ 2847 2600 2669 2842 \nQ 2491 3084 2119 3084 \nQ 1678 3084 1418 2786 \nQ 1159 2488 1159 1978 \nL 1159 0 \nL 581 0 \nL 581 3500 \nL 1159 3500 \nL 1159 2956 \nQ 1356 3278 1631 3431 \nQ 1906 3584 2284 3584 \nQ 2666 3584 2933 3390 \nQ 3200 3197 3328 2828 \nz\n\" transform=\"scale(0.015625)\"/>\n       <path id=\"DejaVuSans-70\" d=\"M 1159 525 \nL 1159 -1331 \nL 581 -1331 \nL 581 3500 \nL 1159 3500 \nL 1159 2969 \nQ 1341 3281 1617 3432 \nQ 1894 3584 2278 3584 \nQ 2916 3584 3314 3078 \nQ 3713 2572 3713 1747 \nQ 3713 922 3314 415 \nQ 2916 -91 2278 -91 \nQ 1894 -91 1617 61 \nQ 1341 213 1159 525 \nz\nM 3116 1747 \nQ 3116 2381 2855 2742 \nQ 2594 3103 2138 3103 \nQ 1681 3103 1420 2742 \nQ 1159 2381 1159 1747 \nQ 1159 1113 1420 752 \nQ 1681 391 2138 391 \nQ 2594 391 2855 752 \nQ 3116 1113 3116 1747 \nz\n\" transform=\"scale(0.015625)\"/>\n       <path id=\"DejaVuSans-72\" d=\"M 2631 2963 \nQ 2534 3019 2420 3045 \nQ 2306 3072 2169 3072 \nQ 1681 3072 1420 2755 \nQ 1159 2438 1159 1844 \nL 1159 0 \nL 581 0 \nL 581 3500 \nL 1159 3500 \nL 1159 2956 \nQ 1341 3275 1631 3429 \nQ 1922 3584 2338 3584 \nQ 2397 3584 2469 3576 \nQ 2541 3569 2628 3553 \nL 2631 2963 \nz\n\" transform=\"scale(0.015625)\"/>\n       <path id=\"DejaVuSans-61\" d=\"M 2194 1759 \nQ 1497 1759 1228 1600 \nQ 959 1441 959 1056 \nQ 959 750 1161 570 \nQ 1363 391 1709 391 \nQ 2188 391 2477 730 \nQ 2766 1069 2766 1631 \nL 2766 1759 \nL 2194 1759 \nz\nM 3341 1997 \nL 3341 0 \nL 2766 0 \nL 2766 531 \nQ 2569 213 2275 61 \nQ 1981 -91 1556 -91 \nQ 1019 -91 701 211 \nQ 384 513 384 1019 \nQ 384 1609 779 1909 \nQ 1175 2209 1959 2209 \nL 2766 2209 \nL 2766 2266 \nQ 2766 2663 2505 2880 \nQ 2244 3097 1772 3097 \nQ 1472 3097 1187 3025 \nQ 903 2953 641 2809 \nL 641 3341 \nQ 956 3463 1253 3523 \nQ 1550 3584 1831 3584 \nQ 2591 3584 2966 3190 \nQ 3341 2797 3341 1997 \nz\n\" transform=\"scale(0.015625)\"/>\n       <path id=\"DejaVuSans-74\" d=\"M 1172 4494 \nL 1172 3500 \nL 2356 3500 \nL 2356 3053 \nL 1172 3053 \nL 1172 1153 \nQ 1172 725 1289 603 \nQ 1406 481 1766 481 \nL 2356 481 \nL 2356 0 \nL 1766 0 \nQ 1100 0 847 248 \nQ 594 497 594 1153 \nL 594 3053 \nL 172 3053 \nL 172 3500 \nL 594 3500 \nL 594 4494 \nL 1172 4494 \nz\n\" transform=\"scale(0.015625)\"/>\n       <path id=\"DejaVuSans-75\" d=\"M 544 1381 \nL 544 3500 \nL 1119 3500 \nL 1119 1403 \nQ 1119 906 1312 657 \nQ 1506 409 1894 409 \nQ 2359 409 2629 706 \nQ 2900 1003 2900 1516 \nL 2900 3500 \nL 3475 3500 \nL 3475 0 \nL 2900 0 \nL 2900 538 \nQ 2691 219 2414 64 \nQ 2138 -91 1772 -91 \nQ 1169 -91 856 284 \nQ 544 659 544 1381 \nz\nM 1991 3584 \nL 1991 3584 \nz\n\" transform=\"scale(0.015625)\"/>\n       <path id=\"DejaVuSans-20\" transform=\"scale(0.015625)\"/>\n       <path id=\"DejaVuSans-5b\" d=\"M 550 4863 \nL 1875 4863 \nL 1875 4416 \nL 1125 4416 \nL 1125 -397 \nL 1875 -397 \nL 1875 -844 \nL 550 -844 \nL 550 4863 \nz\n\" transform=\"scale(0.015625)\"/>\n       <path id=\"DejaVuSans-b0\" d=\"M 1600 4347 \nQ 1350 4347 1178 4173 \nQ 1006 4000 1006 3750 \nQ 1006 3503 1178 3333 \nQ 1350 3163 1600 3163 \nQ 1850 3163 2022 3333 \nQ 2194 3503 2194 3750 \nQ 2194 3997 2020 4172 \nQ 1847 4347 1600 4347 \nz\nM 1600 4750 \nQ 1800 4750 1984 4673 \nQ 2169 4597 2303 4453 \nQ 2447 4313 2519 4134 \nQ 2591 3956 2591 3750 \nQ 2591 3338 2302 3052 \nQ 2013 2766 1594 2766 \nQ 1172 2766 890 3047 \nQ 609 3328 609 3750 \nQ 609 4169 896 4459 \nQ 1184 4750 1600 4750 \nz\n\" transform=\"scale(0.015625)\"/>\n       <path id=\"DejaVuSans-43\" d=\"M 4122 4306 \nL 4122 3641 \nQ 3803 3938 3442 4084 \nQ 3081 4231 2675 4231 \nQ 1875 4231 1450 3742 \nQ 1025 3253 1025 2328 \nQ 1025 1406 1450 917 \nQ 1875 428 2675 428 \nQ 3081 428 3442 575 \nQ 3803 722 4122 1019 \nL 4122 359 \nQ 3791 134 3420 21 \nQ 3050 -91 2638 -91 \nQ 1578 -91 968 557 \nQ 359 1206 359 2328 \nQ 359 3453 968 4101 \nQ 1578 4750 2638 4750 \nQ 3056 4750 3426 4639 \nQ 3797 4528 4122 4306 \nz\n\" transform=\"scale(0.015625)\"/>\n       <path id=\"DejaVuSans-5d\" d=\"M 1947 4863 \nL 1947 -844 \nL 622 -844 \nL 622 -397 \nL 1369 -397 \nL 1369 4416 \nL 622 4416 \nL 622 4863 \nL 1947 4863 \nz\n\" transform=\"scale(0.015625)\"/>\n      </defs>\n      <use xlink:href=\"#DejaVuSans-54\" transform=\"translate(0 0.015625)\"/>\n      <use xlink:href=\"#DejaVuSans-65\" transform=\"translate(61.083984 0.015625)\"/>\n      <use xlink:href=\"#DejaVuSans-6d\" transform=\"translate(122.607422 0.015625)\"/>\n      <use xlink:href=\"#DejaVuSans-70\" transform=\"translate(220.019531 0.015625)\"/>\n      <use xlink:href=\"#DejaVuSans-65\" transform=\"translate(283.496094 0.015625)\"/>\n      <use xlink:href=\"#DejaVuSans-72\" transform=\"translate(345.019531 0.015625)\"/>\n      <use xlink:href=\"#DejaVuSans-61\" transform=\"translate(386.132812 0.015625)\"/>\n      <use xlink:href=\"#DejaVuSans-74\" transform=\"translate(447.412109 0.015625)\"/>\n      <use xlink:href=\"#DejaVuSans-75\" transform=\"translate(486.621094 0.015625)\"/>\n      <use xlink:href=\"#DejaVuSans-72\" transform=\"translate(550 0.015625)\"/>\n      <use xlink:href=\"#DejaVuSans-65\" transform=\"translate(591.113281 0.015625)\"/>\n      <use xlink:href=\"#DejaVuSans-20\" transform=\"translate(652.636719 0.015625)\"/>\n      <use xlink:href=\"#DejaVuSans-5b\" transform=\"translate(684.423828 0.015625)\"/>\n      <use xlink:href=\"#DejaVuSans-b0\" transform=\"translate(723.4375 0.015625)\"/>\n      <use xlink:href=\"#DejaVuSans-43\" transform=\"translate(773.4375 0.015625)\"/>\n      <use xlink:href=\"#DejaVuSans-5d\" transform=\"translate(843.261719 0.015625)\"/>\n     </g>\n    </g>\n   </g>\n   <g id=\"matplotlib.axis_2\">\n    <g id=\"ytick_1\">\n     <g id=\"line2d_65\">\n      <path d=\"M 53.724 261.266802 \nL 410.844 261.266802 \n\" clip-path=\"url(#p45044b8f94)\" style=\"fill: none; stroke-dasharray: 0.8,1.32; stroke-dashoffset: 0; stroke: #000000; stroke-opacity: 0.5; stroke-width: 0.8\"/>\n     </g>\n     <g id=\"line2d_66\">\n      <defs>\n       <path id=\"m9810b20e56\" d=\"M 0 0 \nL 10 0 \n\" style=\"stroke: #000000\"/>\n      </defs>\n      <g>\n       <use xlink:href=\"#m9810b20e56\" x=\"53.724\" y=\"261.266802\" style=\"stroke: #000000\"/>\n      </g>\n     </g>\n     <g id=\"text_9\">\n      <!-- 0 -->\n      <g transform=\"translate(43.8615 265.06602) scale(0.1 -0.1)\">\n       <use xlink:href=\"#DejaVuSans-30\"/>\n      </g>\n     </g>\n    </g>\n    <g id=\"ytick_2\">\n     <g id=\"line2d_67\">\n      <path d=\"M 53.724 202.604369 \nL 410.844 202.604369 \n\" clip-path=\"url(#p45044b8f94)\" style=\"fill: none; stroke-dasharray: 0.8,1.32; stroke-dashoffset: 0; stroke: #000000; stroke-opacity: 0.5; stroke-width: 0.8\"/>\n     </g>\n     <g id=\"line2d_68\">\n      <g>\n       <use xlink:href=\"#m9810b20e56\" x=\"53.724\" y=\"202.604369\" style=\"stroke: #000000\"/>\n      </g>\n     </g>\n     <g id=\"text_10\">\n      <!-- 50 -->\n      <g transform=\"translate(37.499 206.403588) scale(0.1 -0.1)\">\n       <use xlink:href=\"#DejaVuSans-35\"/>\n       <use xlink:href=\"#DejaVuSans-30\" x=\"63.623047\"/>\n      </g>\n     </g>\n    </g>\n    <g id=\"ytick_3\">\n     <g id=\"line2d_69\">\n      <path d=\"M 53.724 143.941937 \nL 410.844 143.941937 \n\" clip-path=\"url(#p45044b8f94)\" style=\"fill: none; stroke-dasharray: 0.8,1.32; stroke-dashoffset: 0; stroke: #000000; stroke-opacity: 0.5; stroke-width: 0.8\"/>\n     </g>\n     <g id=\"line2d_70\">\n      <g>\n       <use xlink:href=\"#m9810b20e56\" x=\"53.724\" y=\"143.941937\" style=\"stroke: #000000\"/>\n      </g>\n     </g>\n     <g id=\"text_11\">\n      <!-- 100 -->\n      <g transform=\"translate(31.1365 147.741155) scale(0.1 -0.1)\">\n       <use xlink:href=\"#DejaVuSans-31\"/>\n       <use xlink:href=\"#DejaVuSans-30\" x=\"63.623047\"/>\n       <use xlink:href=\"#DejaVuSans-30\" x=\"127.246094\"/>\n      </g>\n     </g>\n    </g>\n    <g id=\"ytick_4\">\n     <g id=\"line2d_71\">\n      <path d=\"M 53.724 85.279504 \nL 410.844 85.279504 \n\" clip-path=\"url(#p45044b8f94)\" style=\"fill: none; stroke-dasharray: 0.8,1.32; stroke-dashoffset: 0; stroke: #000000; stroke-opacity: 0.5; stroke-width: 0.8\"/>\n     </g>\n     <g id=\"line2d_72\">\n      <g>\n       <use xlink:href=\"#m9810b20e56\" x=\"53.724\" y=\"85.279504\" style=\"stroke: #000000\"/>\n      </g>\n     </g>\n     <g id=\"text_12\">\n      <!-- 150 -->\n      <g transform=\"translate(31.1365 89.078723) scale(0.1 -0.1)\">\n       <use xlink:href=\"#DejaVuSans-31\"/>\n       <use xlink:href=\"#DejaVuSans-35\" x=\"63.623047\"/>\n       <use xlink:href=\"#DejaVuSans-30\" x=\"127.246094\"/>\n      </g>\n     </g>\n    </g>\n    <g id=\"ytick_5\">\n     <g id=\"line2d_73\">\n      <path d=\"M 53.724 26.617072 \nL 410.844 26.617072 \n\" clip-path=\"url(#p45044b8f94)\" style=\"fill: none; stroke-dasharray: 0.8,1.32; stroke-dashoffset: 0; stroke: #000000; stroke-opacity: 0.5; stroke-width: 0.8\"/>\n     </g>\n     <g id=\"line2d_74\">\n      <g>\n       <use xlink:href=\"#m9810b20e56\" x=\"53.724\" y=\"26.617072\" style=\"stroke: #000000\"/>\n      </g>\n     </g>\n     <g id=\"text_13\">\n      <!-- 200 -->\n      <g transform=\"translate(31.1365 30.41629) scale(0.1 -0.1)\">\n       <use xlink:href=\"#DejaVuSans-32\"/>\n       <use xlink:href=\"#DejaVuSans-30\" x=\"63.623047\"/>\n       <use xlink:href=\"#DejaVuSans-30\" x=\"127.246094\"/>\n      </g>\n     </g>\n    </g>\n    <g id=\"ytick_6\">\n     <g id=\"line2d_75\">\n      <path d=\"M 53.724 272.999288 \nL 410.844 272.999288 \n\" clip-path=\"url(#p45044b8f94)\" style=\"fill: none; stroke-dasharray: 0.8,1.32; stroke-dashoffset: 0; stroke: #000000; stroke-opacity: 0.5; stroke-width: 0.8\"/>\n     </g>\n     <g id=\"line2d_76\">\n      <defs>\n       <path id=\"m9cb667eb2f\" d=\"M 0 0 \nL 5 0 \n\" style=\"stroke: #000000; stroke-width: 0.5\"/>\n      </defs>\n      <g>\n       <use xlink:href=\"#m9cb667eb2f\" x=\"53.724\" y=\"272.999288\" style=\"stroke: #000000; stroke-width: 0.5\"/>\n      </g>\n     </g>\n    </g>\n    <g id=\"ytick_7\">\n     <g id=\"line2d_77\">\n      <path d=\"M 53.724 249.534315 \nL 410.844 249.534315 \n\" clip-path=\"url(#p45044b8f94)\" style=\"fill: none; stroke-dasharray: 0.8,1.32; stroke-dashoffset: 0; stroke: #000000; stroke-opacity: 0.5; stroke-width: 0.8\"/>\n     </g>\n     <g id=\"line2d_78\">\n      <g>\n       <use xlink:href=\"#m9cb667eb2f\" x=\"53.724\" y=\"249.534315\" style=\"stroke: #000000; stroke-width: 0.5\"/>\n      </g>\n     </g>\n    </g>\n    <g id=\"ytick_8\">\n     <g id=\"line2d_79\">\n      <path d=\"M 53.724 237.801829 \nL 410.844 237.801829 \n\" clip-path=\"url(#p45044b8f94)\" style=\"fill: none; stroke-dasharray: 0.8,1.32; stroke-dashoffset: 0; stroke: #000000; stroke-opacity: 0.5; stroke-width: 0.8\"/>\n     </g>\n     <g id=\"line2d_80\">\n      <g>\n       <use xlink:href=\"#m9cb667eb2f\" x=\"53.724\" y=\"237.801829\" style=\"stroke: #000000; stroke-width: 0.5\"/>\n      </g>\n     </g>\n    </g>\n    <g id=\"ytick_9\">\n     <g id=\"line2d_81\">\n      <path d=\"M 53.724 226.069342 \nL 410.844 226.069342 \n\" clip-path=\"url(#p45044b8f94)\" style=\"fill: none; stroke-dasharray: 0.8,1.32; stroke-dashoffset: 0; stroke: #000000; stroke-opacity: 0.5; stroke-width: 0.8\"/>\n     </g>\n     <g id=\"line2d_82\">\n      <g>\n       <use xlink:href=\"#m9cb667eb2f\" x=\"53.724\" y=\"226.069342\" style=\"stroke: #000000; stroke-width: 0.5\"/>\n      </g>\n     </g>\n    </g>\n    <g id=\"ytick_10\">\n     <g id=\"line2d_83\">\n      <path d=\"M 53.724 214.336856 \nL 410.844 214.336856 \n\" clip-path=\"url(#p45044b8f94)\" style=\"fill: none; stroke-dasharray: 0.8,1.32; stroke-dashoffset: 0; stroke: #000000; stroke-opacity: 0.5; stroke-width: 0.8\"/>\n     </g>\n     <g id=\"line2d_84\">\n      <g>\n       <use xlink:href=\"#m9cb667eb2f\" x=\"53.724\" y=\"214.336856\" style=\"stroke: #000000; stroke-width: 0.5\"/>\n      </g>\n     </g>\n    </g>\n    <g id=\"ytick_11\">\n     <g id=\"line2d_85\">\n      <path d=\"M 53.724 190.871883 \nL 410.844 190.871883 \n\" clip-path=\"url(#p45044b8f94)\" style=\"fill: none; stroke-dasharray: 0.8,1.32; stroke-dashoffset: 0; stroke: #000000; stroke-opacity: 0.5; stroke-width: 0.8\"/>\n     </g>\n     <g id=\"line2d_86\">\n      <g>\n       <use xlink:href=\"#m9cb667eb2f\" x=\"53.724\" y=\"190.871883\" style=\"stroke: #000000; stroke-width: 0.5\"/>\n      </g>\n     </g>\n    </g>\n    <g id=\"ytick_12\">\n     <g id=\"line2d_87\">\n      <path d=\"M 53.724 179.139396 \nL 410.844 179.139396 \n\" clip-path=\"url(#p45044b8f94)\" style=\"fill: none; stroke-dasharray: 0.8,1.32; stroke-dashoffset: 0; stroke: #000000; stroke-opacity: 0.5; stroke-width: 0.8\"/>\n     </g>\n     <g id=\"line2d_88\">\n      <g>\n       <use xlink:href=\"#m9cb667eb2f\" x=\"53.724\" y=\"179.139396\" style=\"stroke: #000000; stroke-width: 0.5\"/>\n      </g>\n     </g>\n    </g>\n    <g id=\"ytick_13\">\n     <g id=\"line2d_89\">\n      <path d=\"M 53.724 167.40691 \nL 410.844 167.40691 \n\" clip-path=\"url(#p45044b8f94)\" style=\"fill: none; stroke-dasharray: 0.8,1.32; stroke-dashoffset: 0; stroke: #000000; stroke-opacity: 0.5; stroke-width: 0.8\"/>\n     </g>\n     <g id=\"line2d_90\">\n      <g>\n       <use xlink:href=\"#m9cb667eb2f\" x=\"53.724\" y=\"167.40691\" style=\"stroke: #000000; stroke-width: 0.5\"/>\n      </g>\n     </g>\n    </g>\n    <g id=\"ytick_14\">\n     <g id=\"line2d_91\">\n      <path d=\"M 53.724 155.674423 \nL 410.844 155.674423 \n\" clip-path=\"url(#p45044b8f94)\" style=\"fill: none; stroke-dasharray: 0.8,1.32; stroke-dashoffset: 0; stroke: #000000; stroke-opacity: 0.5; stroke-width: 0.8\"/>\n     </g>\n     <g id=\"line2d_92\">\n      <g>\n       <use xlink:href=\"#m9cb667eb2f\" x=\"53.724\" y=\"155.674423\" style=\"stroke: #000000; stroke-width: 0.5\"/>\n      </g>\n     </g>\n    </g>\n    <g id=\"ytick_15\">\n     <g id=\"line2d_93\">\n      <path d=\"M 53.724 132.20945 \nL 410.844 132.20945 \n\" clip-path=\"url(#p45044b8f94)\" style=\"fill: none; stroke-dasharray: 0.8,1.32; stroke-dashoffset: 0; stroke: #000000; stroke-opacity: 0.5; stroke-width: 0.8\"/>\n     </g>\n     <g id=\"line2d_94\">\n      <g>\n       <use xlink:href=\"#m9cb667eb2f\" x=\"53.724\" y=\"132.20945\" style=\"stroke: #000000; stroke-width: 0.5\"/>\n      </g>\n     </g>\n    </g>\n    <g id=\"ytick_16\">\n     <g id=\"line2d_95\">\n      <path d=\"M 53.724 120.476964 \nL 410.844 120.476964 \n\" clip-path=\"url(#p45044b8f94)\" style=\"fill: none; stroke-dasharray: 0.8,1.32; stroke-dashoffset: 0; stroke: #000000; stroke-opacity: 0.5; stroke-width: 0.8\"/>\n     </g>\n     <g id=\"line2d_96\">\n      <g>\n       <use xlink:href=\"#m9cb667eb2f\" x=\"53.724\" y=\"120.476964\" style=\"stroke: #000000; stroke-width: 0.5\"/>\n      </g>\n     </g>\n    </g>\n    <g id=\"ytick_17\">\n     <g id=\"line2d_97\">\n      <path d=\"M 53.724 108.744477 \nL 410.844 108.744477 \n\" clip-path=\"url(#p45044b8f94)\" style=\"fill: none; stroke-dasharray: 0.8,1.32; stroke-dashoffset: 0; stroke: #000000; stroke-opacity: 0.5; stroke-width: 0.8\"/>\n     </g>\n     <g id=\"line2d_98\">\n      <g>\n       <use xlink:href=\"#m9cb667eb2f\" x=\"53.724\" y=\"108.744477\" style=\"stroke: #000000; stroke-width: 0.5\"/>\n      </g>\n     </g>\n    </g>\n    <g id=\"ytick_18\">\n     <g id=\"line2d_99\">\n      <path d=\"M 53.724 97.011991 \nL 410.844 97.011991 \n\" clip-path=\"url(#p45044b8f94)\" style=\"fill: none; stroke-dasharray: 0.8,1.32; stroke-dashoffset: 0; stroke: #000000; stroke-opacity: 0.5; stroke-width: 0.8\"/>\n     </g>\n     <g id=\"line2d_100\">\n      <g>\n       <use xlink:href=\"#m9cb667eb2f\" x=\"53.724\" y=\"97.011991\" style=\"stroke: #000000; stroke-width: 0.5\"/>\n      </g>\n     </g>\n    </g>\n    <g id=\"ytick_19\">\n     <g id=\"line2d_101\">\n      <path d=\"M 53.724 73.547018 \nL 410.844 73.547018 \n\" clip-path=\"url(#p45044b8f94)\" style=\"fill: none; stroke-dasharray: 0.8,1.32; stroke-dashoffset: 0; stroke: #000000; stroke-opacity: 0.5; stroke-width: 0.8\"/>\n     </g>\n     <g id=\"line2d_102\">\n      <g>\n       <use xlink:href=\"#m9cb667eb2f\" x=\"53.724\" y=\"73.547018\" style=\"stroke: #000000; stroke-width: 0.5\"/>\n      </g>\n     </g>\n    </g>\n    <g id=\"ytick_20\">\n     <g id=\"line2d_103\">\n      <path d=\"M 53.724 61.814531 \nL 410.844 61.814531 \n\" clip-path=\"url(#p45044b8f94)\" style=\"fill: none; stroke-dasharray: 0.8,1.32; stroke-dashoffset: 0; stroke: #000000; stroke-opacity: 0.5; stroke-width: 0.8\"/>\n     </g>\n     <g id=\"line2d_104\">\n      <g>\n       <use xlink:href=\"#m9cb667eb2f\" x=\"53.724\" y=\"61.814531\" style=\"stroke: #000000; stroke-width: 0.5\"/>\n      </g>\n     </g>\n    </g>\n    <g id=\"ytick_21\">\n     <g id=\"line2d_105\">\n      <path d=\"M 53.724 50.082045 \nL 410.844 50.082045 \n\" clip-path=\"url(#p45044b8f94)\" style=\"fill: none; stroke-dasharray: 0.8,1.32; stroke-dashoffset: 0; stroke: #000000; stroke-opacity: 0.5; stroke-width: 0.8\"/>\n     </g>\n     <g id=\"line2d_106\">\n      <g>\n       <use xlink:href=\"#m9cb667eb2f\" x=\"53.724\" y=\"50.082045\" style=\"stroke: #000000; stroke-width: 0.5\"/>\n      </g>\n     </g>\n    </g>\n    <g id=\"ytick_22\">\n     <g id=\"line2d_107\">\n      <path d=\"M 53.724 38.349558 \nL 410.844 38.349558 \n\" clip-path=\"url(#p45044b8f94)\" style=\"fill: none; stroke-dasharray: 0.8,1.32; stroke-dashoffset: 0; stroke: #000000; stroke-opacity: 0.5; stroke-width: 0.8\"/>\n     </g>\n     <g id=\"line2d_108\">\n      <g>\n       <use xlink:href=\"#m9cb667eb2f\" x=\"53.724\" y=\"38.349558\" style=\"stroke: #000000; stroke-width: 0.5\"/>\n      </g>\n     </g>\n    </g>\n    <g id=\"ytick_23\">\n     <g id=\"line2d_109\">\n      <path d=\"M 53.724 14.884585 \nL 410.844 14.884585 \n\" clip-path=\"url(#p45044b8f94)\" style=\"fill: none; stroke-dasharray: 0.8,1.32; stroke-dashoffset: 0; stroke: #000000; stroke-opacity: 0.5; stroke-width: 0.8\"/>\n     </g>\n     <g id=\"line2d_110\">\n      <g>\n       <use xlink:href=\"#m9cb667eb2f\" x=\"53.724\" y=\"14.884585\" style=\"stroke: #000000; stroke-width: 0.5\"/>\n      </g>\n     </g>\n    </g>\n    <g id=\"text_14\">\n     <!-- Resistance [k$\\Omega$] -->\n     <g transform=\"translate(18.14175 196.992) rotate(-90) scale(0.144 -0.144)\">\n      <defs>\n       <path id=\"DejaVuSans-52\" d=\"M 2841 2188 \nQ 3044 2119 3236 1894 \nQ 3428 1669 3622 1275 \nL 4263 0 \nL 3584 0 \nL 2988 1197 \nQ 2756 1666 2539 1819 \nQ 2322 1972 1947 1972 \nL 1259 1972 \nL 1259 0 \nL 628 0 \nL 628 4666 \nL 2053 4666 \nQ 2853 4666 3247 4331 \nQ 3641 3997 3641 3322 \nQ 3641 2881 3436 2590 \nQ 3231 2300 2841 2188 \nz\nM 1259 4147 \nL 1259 2491 \nL 2053 2491 \nQ 2509 2491 2742 2702 \nQ 2975 2913 2975 3322 \nQ 2975 3731 2742 3939 \nQ 2509 4147 2053 4147 \nL 1259 4147 \nz\n\" transform=\"scale(0.015625)\"/>\n       <path id=\"DejaVuSans-73\" d=\"M 2834 3397 \nL 2834 2853 \nQ 2591 2978 2328 3040 \nQ 2066 3103 1784 3103 \nQ 1356 3103 1142 2972 \nQ 928 2841 928 2578 \nQ 928 2378 1081 2264 \nQ 1234 2150 1697 2047 \nL 1894 2003 \nQ 2506 1872 2764 1633 \nQ 3022 1394 3022 966 \nQ 3022 478 2636 193 \nQ 2250 -91 1575 -91 \nQ 1294 -91 989 -36 \nQ 684 19 347 128 \nL 347 722 \nQ 666 556 975 473 \nQ 1284 391 1588 391 \nQ 1994 391 2212 530 \nQ 2431 669 2431 922 \nQ 2431 1156 2273 1281 \nQ 2116 1406 1581 1522 \nL 1381 1569 \nQ 847 1681 609 1914 \nQ 372 2147 372 2553 \nQ 372 3047 722 3315 \nQ 1072 3584 1716 3584 \nQ 2034 3584 2315 3537 \nQ 2597 3491 2834 3397 \nz\n\" transform=\"scale(0.015625)\"/>\n       <path id=\"DejaVuSans-69\" d=\"M 603 3500 \nL 1178 3500 \nL 1178 0 \nL 603 0 \nL 603 3500 \nz\nM 603 4863 \nL 1178 4863 \nL 1178 4134 \nL 603 4134 \nL 603 4863 \nz\n\" transform=\"scale(0.015625)\"/>\n       <path id=\"DejaVuSans-6e\" d=\"M 3513 2113 \nL 3513 0 \nL 2938 0 \nL 2938 2094 \nQ 2938 2591 2744 2837 \nQ 2550 3084 2163 3084 \nQ 1697 3084 1428 2787 \nQ 1159 2491 1159 1978 \nL 1159 0 \nL 581 0 \nL 581 3500 \nL 1159 3500 \nL 1159 2956 \nQ 1366 3272 1645 3428 \nQ 1925 3584 2291 3584 \nQ 2894 3584 3203 3211 \nQ 3513 2838 3513 2113 \nz\n\" transform=\"scale(0.015625)\"/>\n       <path id=\"DejaVuSans-63\" d=\"M 3122 3366 \nL 3122 2828 \nQ 2878 2963 2633 3030 \nQ 2388 3097 2138 3097 \nQ 1578 3097 1268 2742 \nQ 959 2388 959 1747 \nQ 959 1106 1268 751 \nQ 1578 397 2138 397 \nQ 2388 397 2633 464 \nQ 2878 531 3122 666 \nL 3122 134 \nQ 2881 22 2623 -34 \nQ 2366 -91 2075 -91 \nQ 1284 -91 818 406 \nQ 353 903 353 1747 \nQ 353 2603 823 3093 \nQ 1294 3584 2113 3584 \nQ 2378 3584 2631 3529 \nQ 2884 3475 3122 3366 \nz\n\" transform=\"scale(0.015625)\"/>\n       <path id=\"DejaVuSans-6b\" d=\"M 581 4863 \nL 1159 4863 \nL 1159 1991 \nL 2875 3500 \nL 3609 3500 \nL 1753 1863 \nL 3688 0 \nL 2938 0 \nL 1159 1709 \nL 1159 0 \nL 581 0 \nL 581 4863 \nz\n\" transform=\"scale(0.015625)\"/>\n       <path id=\"DejaVuSans-3a9\" d=\"M 4647 556 \nL 4647 0 \nL 2772 0 \nL 2772 556 \nQ 3325 859 3634 1378 \nQ 3944 1897 3944 2528 \nQ 3944 3278 3531 3731 \nQ 3119 4184 2444 4184 \nQ 1769 4184 1355 3729 \nQ 941 3275 941 2528 \nQ 941 1897 1250 1378 \nQ 1563 859 2119 556 \nL 2119 0 \nL 244 0 \nL 244 556 \nL 1241 556 \nQ 747 991 519 1456 \nQ 294 1922 294 2497 \nQ 294 3491 894 4106 \nQ 1491 4722 2444 4722 \nQ 3391 4722 3994 4106 \nQ 4594 3494 4594 2528 \nQ 4594 1922 4372 1459 \nQ 4150 997 3647 556 \nL 4647 556 \nz\n\" transform=\"scale(0.015625)\"/>\n      </defs>\n      <use xlink:href=\"#DejaVuSans-52\" transform=\"translate(0 0.015625)\"/>\n      <use xlink:href=\"#DejaVuSans-65\" transform=\"translate(69.482422 0.015625)\"/>\n      <use xlink:href=\"#DejaVuSans-73\" transform=\"translate(131.005859 0.015625)\"/>\n      <use xlink:href=\"#DejaVuSans-69\" transform=\"translate(183.105469 0.015625)\"/>\n      <use xlink:href=\"#DejaVuSans-73\" transform=\"translate(210.888672 0.015625)\"/>\n      <use xlink:href=\"#DejaVuSans-74\" transform=\"translate(262.988281 0.015625)\"/>\n      <use xlink:href=\"#DejaVuSans-61\" transform=\"translate(302.197266 0.015625)\"/>\n      <use xlink:href=\"#DejaVuSans-6e\" transform=\"translate(363.476562 0.015625)\"/>\n      <use xlink:href=\"#DejaVuSans-63\" transform=\"translate(426.855469 0.015625)\"/>\n      <use xlink:href=\"#DejaVuSans-65\" transform=\"translate(481.835938 0.015625)\"/>\n      <use xlink:href=\"#DejaVuSans-20\" transform=\"translate(543.359375 0.015625)\"/>\n      <use xlink:href=\"#DejaVuSans-5b\" transform=\"translate(575.146484 0.015625)\"/>\n      <use xlink:href=\"#DejaVuSans-6b\" transform=\"translate(614.160156 0.015625)\"/>\n      <use xlink:href=\"#DejaVuSans-3a9\" transform=\"translate(672.070312 0.015625)\"/>\n      <use xlink:href=\"#DejaVuSans-5d\" transform=\"translate(748.486328 0.015625)\"/>\n     </g>\n    </g>\n   </g>\n   <g id=\"line2d_111\">\n    <path d=\"M 70.515746 19.296 \nL 72.750887 45.412515 \nL 74.986029 68.384724 \nL 77.22117 88.623263 \nL 79.456312 106.49184 \nL 81.691453 122.295499 \nL 83.926595 136.292355 \nL 86.161736 148.717059 \nL 88.396878 159.757328 \nL 90.63202 169.589152 \nL 92.867161 178.341587 \nL 95.102303 186.131958 \nL 97.337444 193.101055 \nL 99.572586 199.35447 \nL 101.807727 204.962599 \nL 104.042869 209.995836 \nL 106.278011 214.54804 \nL 108.513152 218.642678 \nL 110.748294 222.338411 \nL 112.983435 225.670438 \nL 115.218577 228.685687 \nL 117.453718 231.419356 \nL 119.68886 233.894911 \nL 123.041572 237.191739 \nL 126.394285 240.031001 \nL 129.746997 242.483091 \nL 133.099709 244.630136 \nL 136.452422 246.483869 \nL 139.805134 248.114684 \nL 144.275417 249.968417 \nL 148.7457 251.517105 \nL 153.215983 252.831144 \nL 158.803837 254.192112 \nL 163.274121 255.095514 \nL 168.861974 256.053354 \nL 175.567399 256.980103 \nL 183.390395 257.82977 \nL 192.330961 258.572084 \nL 203.506669 259.253155 \nL 216.917518 259.828047 \nL 233.68108 260.305794 \nL 258.267637 260.717839 \nL 289.559619 260.978534 \nL 340.967875 261.151471 \nL 394.611273 261.216 \nL 394.611273 261.216 \n\" clip-path=\"url(#p45044b8f94)\" style=\"fill: none; stroke: #0000ff; stroke-width: 1.5; stroke-linecap: square\"/>\n   </g>\n   <g id=\"line2d_112\">\n    <path d=\"M 69.956727 19.296 \nL 72.245363 45.412515 \nL 74.532294 68.384724 \nL 76.816957 88.623263 \nL 79.100199 106.49184 \nL 81.382086 122.295499 \nL 83.661941 136.292355 \nL 85.941205 148.717059 \nL 88.218551 159.757328 \nL 90.495488 169.589152 \nL 92.767572 178.341587 \nL 95.03047 186.131958 \nL 97.29188 193.101055 \nL 99.555686 199.35447 \nL 101.817686 204.962599 \nL 104.076399 209.995836 \nL 106.346828 214.54804 \nL 108.614203 218.642678 \nL 110.883477 222.338411 \nL 113.149373 225.670438 \nL 115.417563 228.685687 \nL 117.689988 231.419356 \nL 119.961666 233.894911 \nL 122.241383 236.147548 \nL 125.642217 239.1276 \nL 129.037947 241.708747 \nL 132.427984 243.949652 \nL 135.807276 245.897244 \nL 139.184666 247.598455 \nL 142.533681 249.076748 \nL 147.01361 250.777959 \nL 151.438998 252.19759 \nL 155.880144 253.406036 \nL 161.407131 254.661412 \nL 166.943972 255.694457 \nL 173.554282 256.694182 \nL 181.247239 257.608847 \nL 190.011266 258.4056 \nL 199.841365 259.072357 \nL 211.863035 259.658512 \nL 226.35424 260.140366 \nL 245.149465 260.537393 \nL 271.754464 260.853701 \nL 311.288918 261.07345 \nL 380.984461 261.205089 \nL 394.27121 261.216 \nL 394.27121 261.216 \n\" clip-path=\"url(#p45044b8f94)\" style=\"fill: none; stroke: #ff0000; stroke-width: 1.5; stroke-linecap: square\"/>\n   </g>\n   <g id=\"patch_3\">\n    <path d=\"M 53.724 273.312 \nL 53.724 7.2 \n\" style=\"fill: none; stroke: #000000; stroke-width: 0.8; stroke-linejoin: miter; stroke-linecap: square\"/>\n   </g>\n   <g id=\"patch_4\">\n    <path d=\"M 410.844 273.312 \nL 410.844 7.2 \n\" style=\"fill: none; stroke: #000000; stroke-width: 0.8; stroke-linejoin: miter; stroke-linecap: square\"/>\n   </g>\n   <g id=\"patch_5\">\n    <path d=\"M 53.724 273.312 \nL 410.844 273.312 \n\" style=\"fill: none; stroke: #000000; stroke-width: 0.8; stroke-linejoin: miter; stroke-linecap: square\"/>\n   </g>\n   <g id=\"patch_6\">\n    <path d=\"M 53.724 7.2 \nL 410.844 7.2 \n\" style=\"fill: none; stroke: #000000; stroke-width: 0.8; stroke-linejoin: miter; stroke-linecap: square\"/>\n   </g>\n   <g id=\"legend_1\">\n    <g id=\"patch_7\">\n     <path d=\"M 300.522125 44.55625 \nL 403.844 44.55625 \nQ 405.844 44.55625 405.844 42.55625 \nL 405.844 14.2 \nQ 405.844 12.2 403.844 12.2 \nL 300.522125 12.2 \nQ 298.522125 12.2 298.522125 14.2 \nL 298.522125 42.55625 \nQ 298.522125 44.55625 300.522125 44.55625 \nz\n\" style=\"fill: #ffffff; opacity: 0.8; stroke: #cccccc; stroke-linejoin: miter\"/>\n    </g>\n    <g id=\"line2d_113\">\n     <path d=\"M 302.522125 20.298437 \nL 312.522125 20.298437 \nL 322.522125 20.298437 \n\" style=\"fill: none; stroke: #0000ff; stroke-width: 1.5; stroke-linecap: square\"/>\n    </g>\n    <g id=\"text_15\">\n     <!-- Datasheet -->\n     <g transform=\"translate(330.522125 23.798437) scale(0.1 -0.1)\">\n      <defs>\n       <path id=\"DejaVuSans-44\" d=\"M 1259 4147 \nL 1259 519 \nL 2022 519 \nQ 2988 519 3436 956 \nQ 3884 1394 3884 2338 \nQ 3884 3275 3436 3711 \nQ 2988 4147 2022 4147 \nL 1259 4147 \nz\nM 628 4666 \nL 1925 4666 \nQ 3281 4666 3915 4102 \nQ 4550 3538 4550 2338 \nQ 4550 1131 3912 565 \nQ 3275 0 1925 0 \nL 628 0 \nL 628 4666 \nz\n\" transform=\"scale(0.015625)\"/>\n       <path id=\"DejaVuSans-68\" d=\"M 3513 2113 \nL 3513 0 \nL 2938 0 \nL 2938 2094 \nQ 2938 2591 2744 2837 \nQ 2550 3084 2163 3084 \nQ 1697 3084 1428 2787 \nQ 1159 2491 1159 1978 \nL 1159 0 \nL 581 0 \nL 581 4863 \nL 1159 4863 \nL 1159 2956 \nQ 1366 3272 1645 3428 \nQ 1925 3584 2291 3584 \nQ 2894 3584 3203 3211 \nQ 3513 2838 3513 2113 \nz\n\" transform=\"scale(0.015625)\"/>\n      </defs>\n      <use xlink:href=\"#DejaVuSans-44\"/>\n      <use xlink:href=\"#DejaVuSans-61\" x=\"77.001953\"/>\n      <use xlink:href=\"#DejaVuSans-74\" x=\"138.28125\"/>\n      <use xlink:href=\"#DejaVuSans-61\" x=\"177.490234\"/>\n      <use xlink:href=\"#DejaVuSans-73\" x=\"238.769531\"/>\n      <use xlink:href=\"#DejaVuSans-68\" x=\"290.869141\"/>\n      <use xlink:href=\"#DejaVuSans-65\" x=\"354.248047\"/>\n      <use xlink:href=\"#DejaVuSans-65\" x=\"415.771484\"/>\n      <use xlink:href=\"#DejaVuSans-74\" x=\"477.294922\"/>\n     </g>\n    </g>\n    <g id=\"line2d_114\">\n     <path d=\"M 302.522125 34.976562 \nL 312.522125 34.976562 \nL 322.522125 34.976562 \n\" style=\"fill: none; stroke: #ff0000; stroke-width: 1.5; stroke-linecap: square\"/>\n    </g>\n    <g id=\"text_16\">\n     <!-- Steinhart-Hart -->\n     <g transform=\"translate(330.522125 38.476562) scale(0.1 -0.1)\">\n      <defs>\n       <path id=\"DejaVuSans-53\" d=\"M 3425 4513 \nL 3425 3897 \nQ 3066 4069 2747 4153 \nQ 2428 4238 2131 4238 \nQ 1616 4238 1336 4038 \nQ 1056 3838 1056 3469 \nQ 1056 3159 1242 3001 \nQ 1428 2844 1947 2747 \nL 2328 2669 \nQ 3034 2534 3370 2195 \nQ 3706 1856 3706 1288 \nQ 3706 609 3251 259 \nQ 2797 -91 1919 -91 \nQ 1588 -91 1214 -16 \nQ 841 59 441 206 \nL 441 856 \nQ 825 641 1194 531 \nQ 1563 422 1919 422 \nQ 2459 422 2753 634 \nQ 3047 847 3047 1241 \nQ 3047 1584 2836 1778 \nQ 2625 1972 2144 2069 \nL 1759 2144 \nQ 1053 2284 737 2584 \nQ 422 2884 422 3419 \nQ 422 4038 858 4394 \nQ 1294 4750 2059 4750 \nQ 2388 4750 2728 4690 \nQ 3069 4631 3425 4513 \nz\n\" transform=\"scale(0.015625)\"/>\n       <path id=\"DejaVuSans-2d\" d=\"M 313 2009 \nL 1997 2009 \nL 1997 1497 \nL 313 1497 \nL 313 2009 \nz\n\" transform=\"scale(0.015625)\"/>\n       <path id=\"DejaVuSans-48\" d=\"M 628 4666 \nL 1259 4666 \nL 1259 2753 \nL 3553 2753 \nL 3553 4666 \nL 4184 4666 \nL 4184 0 \nL 3553 0 \nL 3553 2222 \nL 1259 2222 \nL 1259 0 \nL 628 0 \nL 628 4666 \nz\n\" transform=\"scale(0.015625)\"/>\n      </defs>\n      <use xlink:href=\"#DejaVuSans-53\"/>\n      <use xlink:href=\"#DejaVuSans-74\" x=\"63.476562\"/>\n      <use xlink:href=\"#DejaVuSans-65\" x=\"102.685547\"/>\n      <use xlink:href=\"#DejaVuSans-69\" x=\"164.208984\"/>\n      <use xlink:href=\"#DejaVuSans-6e\" x=\"191.992188\"/>\n      <use xlink:href=\"#DejaVuSans-68\" x=\"255.371094\"/>\n      <use xlink:href=\"#DejaVuSans-61\" x=\"318.75\"/>\n      <use xlink:href=\"#DejaVuSans-72\" x=\"380.029297\"/>\n      <use xlink:href=\"#DejaVuSans-74\" x=\"421.142578\"/>\n      <use xlink:href=\"#DejaVuSans-2d\" x=\"460.351562\"/>\n      <use xlink:href=\"#DejaVuSans-48\" x=\"496.435547\"/>\n      <use xlink:href=\"#DejaVuSans-61\" x=\"571.630859\"/>\n      <use xlink:href=\"#DejaVuSans-72\" x=\"632.910156\"/>\n      <use xlink:href=\"#DejaVuSans-74\" x=\"674.023438\"/>\n     </g>\n    </g>\n   </g>\n  </g>\n </g>\n <defs>\n  <clipPath id=\"p45044b8f94\">\n   <rect x=\"53.724\" y=\"7.2\" width=\"357.12\" height=\"266.112\"/>\n  </clipPath>\n </defs>\n</svg>\n",
      "text/plain": [
       "<Figure size 640x480 with 1 Axes>"
      ]
     },
     "metadata": {},
     "output_type": "display_data"
    }
   ],
   "source": [
    "plt.plot(temp-273.15, res*1e-3, \"b\", label=\"Datasheet\")\n",
    "plt.plot(steinhart_hart(res, *popt)-273.15, res*1e-3, \"r\", label=\"Steinhart-Hart\")\n",
    "# plt.plot(res, np.abs(np.subtract(temp, steinhart_hart(res, *popt))), \"g\", label=\"error values\")\n",
    "plt.ylabel(\"Resistance [k$\\Omega$]\")\n",
    "plt.xlabel(\"Temperature [$\\degree$C]\")\n",
    "plt.legend()\n",
    "plt.show()"
   ]
  },
  {
   "attachments": {},
   "cell_type": "markdown",
   "metadata": {},
   "source": [
    "## Weatstone bridge\n",
    "<center><img src=\"https://upload.wikimedia.org/wikipedia/commons/9/93/Wheatstonebridge.svg\" width=300></center>\n",
    "\n",
    "The thermistor resistance $R_x$ is given by\n",
    "\\begin{gather}\n",
    "    R_x = R + \\Delta R \\ , \\tag{2}\n",
    "\\end{gather}\n",
    "\n",
    "where $R$ is the nominal thermistor resistance at 25&deg;C and $\\Delta R$ is the resistance change of the thermistor. From Kirchhoff's laws and the fact that $R_1=R_2=R_3=R$, we have\n",
    "\\begin{align}\n",
    "    V_G &= \\frac{V_{out}}{G} = B - D = V_s\\left[\\frac{R+\\Delta R}{2R+\\Delta R}-\\frac{1}{2}\\right] \\ , \\tag{3} \\\\[0.25cm]\n",
    "    &= \\frac{\\Delta R}{4R+2\\Delta R}V_s \\ , \\tag{4} \\\\[0.25cm]\n",
    "    \\Delta R &= -\\frac{4RV_{out}}{2V_{out}-GV_s} \\ , \\tag{5} \\\\[0.25cm]\n",
    "    R_x &= R+\\Delta R = R\\left(1 - \\frac{4V_{out}}{2V_{out}-GV_s}\\right) \\ , \\tag{6}\n",
    "\\end{align}\n",
    "\n",
    "where $V_s$ is the supply voltage, $V_{out}$ is the amplifier output voltage and $G$ is the amplifier gain."
   ]
  },
  {
   "cell_type": "code",
   "execution_count": 7,
   "metadata": {},
   "outputs": [],
   "source": [
    "def sim(dV: float, G: float | int = 1, R: int = 10e3, Vs: float = 3.3) -> float:\n",
    "    \"\"\"Calculate thermistor temperature based on amplifier's output voltage.\n",
    "\n",
    "    Parameters:\n",
    "    -----------\n",
    "        dV : float\n",
    "            _description_\n",
    "        G : float or int, optional\n",
    "            Amplifier gain. Defaults to 1.\n",
    "        R : int, optional\n",
    "            Thermistor nominal resistance at 25°C. Defaults to 10 000.\n",
    "        Vs : float, optional\n",
    "            Weatstone bridge supply voltage in volts. Defaults to 3.3.\n",
    "\n",
    "    Returns:\n",
    "    --------\n",
    "        T : float\n",
    "            Thermistor temperature in °C.\n",
    "\n",
    "    \"\"\"\n",
    "    Rx = R*(1 - (4*dV) / (2*dV - G*Vs))\n",
    "    T = steinhart_hart(Rx, *popt) - 273.15\n",
    "    return T"
   ]
  },
  {
   "attachments": {},
   "cell_type": "markdown",
   "metadata": {},
   "source": [
    "#### Simulation results"
   ]
  },
  {
   "cell_type": "code",
   "execution_count": 8,
   "metadata": {},
   "outputs": [
    {
     "data": {
      "text/plain": [
       "19.729888995456918"
      ]
     },
     "execution_count": 8,
     "metadata": {},
     "output_type": "execute_result"
    }
   ],
   "source": [
    "s1 = sim(0.18)\n",
    "s1"
   ]
  }
 ],
 "metadata": {
  "kernelspec": {
   "display_name": "jupyter",
   "language": "python",
   "name": "python3"
  },
  "language_info": {
   "codemirror_mode": {
    "name": "ipython",
    "version": 3
   },
   "file_extension": ".py",
   "mimetype": "text/x-python",
   "name": "python",
   "nbconvert_exporter": "python",
   "pygments_lexer": "ipython3",
   "version": "3.10.8"
  },
  "orig_nbformat": 4,
  "vscode": {
   "interpreter": {
    "hash": "d8c8252bede13462a70591947a788797da6004cec599a8a734e0c20d59b6cd15"
   }
  }
 },
 "nbformat": 4,
 "nbformat_minor": 2
}
