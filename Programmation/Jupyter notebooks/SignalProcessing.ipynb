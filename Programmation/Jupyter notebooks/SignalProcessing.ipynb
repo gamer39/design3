{
 "cells": [
  {
   "attachments": {},
   "cell_type": "markdown",
   "metadata": {},
   "source": [
    "<img src=\"https://upload.wikimedia.org/wikipedia/fr/b/bf/Universit%C3%A9_Laval_logo_et_texte.svg\" width=200 align=\"right\"><br>\n",
    "<b> Projet de conception en génie physique GPH-3110 </b><br>\n",
    "<b> Département de physique, de génie physique et d'optique </b><br>\n",
    "<b> Hiver 2023 </b><br>\n",
    "<b> Université Laval </b><br>"
   ]
  },
  {
   "attachments": {},
   "cell_type": "markdown",
   "metadata": {},
   "source": [
    "<center><h1>Thermistor voltage - temperature simulation</h2></center>"
   ]
  },
  {
   "cell_type": "code",
   "execution_count": 2,
   "metadata": {},
   "outputs": [],
   "source": [
    "%matplotlib inline\n",
    "%config InlineBackend.figure_formats = \"svg\"\n",
    "\n",
    "import numpy as np\n",
    "from pandas import read_excel\n",
    "import matplotlib.pyplot as plt\n",
    "from scipy.optimize import curve_fit"
   ]
  },
  {
   "cell_type": "code",
   "execution_count": 3,
   "metadata": {},
   "outputs": [],
   "source": [
    "plt.rcParams.update(\n",
    "    {\n",
    "        \"lines.linewidth\": 1.5,\n",
    "        \"axes.labelsize\": \"x-large\",\n",
    "        \"axes.labelpad\": 10,\n",
    "        \"axes.grid\": True,\n",
    "        \"axes.grid.which\": \"both\",\n",
    "        \"grid.linestyle\": \":\",\n",
    "        \"grid.color\": \"k\",\n",
    "        \"grid.alpha\": 0.5,\n",
    "        \"xtick.minor.visible\": True,\n",
    "        \"xtick.direction\": \"in\",\n",
    "        \"xtick.major.size\": 10,\n",
    "        \"xtick.major.width\": 1,\n",
    "        \"xtick.minor.size\": 5,\n",
    "        \"xtick.minor.width\": 0.5,\n",
    "        \"ytick.minor.visible\": True,\n",
    "        \"ytick.direction\": \"in\",\n",
    "        \"ytick.major.size\": 10,\n",
    "        \"ytick.major.width\": 1,\n",
    "        \"ytick.minor.size\": 5,\n",
    "        \"ytick.minor.width\": 0.5,\n",
    "    }\n",
    ")"
   ]
  },
  {
   "attachments": {},
   "cell_type": "markdown",
   "metadata": {},
   "source": [
    "## Steinhart-Hart equation"
   ]
  },
  {
   "attachments": {},
   "cell_type": "markdown",
   "metadata": {},
   "source": [
    "The Steinhart-Hart equation is a model of the resistance $R$ of a semiconductor at different temperatures $T$. The equation is\n",
    "\\begin{gather}\n",
    "    \\frac{1}{T}=A+B\\ln{\\left(\\frac{R}{R_{25}}\\right)}+C\\ln\\left(\\frac{R}{R_{25}}\\right)^2+D\\ln{\\left(\\frac{R}{R_{25}}\\right)}^3 \\ ,\n",
    "\\end{gather}"
   ]
  },
  {
   "attachments": {},
   "cell_type": "markdown",
   "metadata": {},
   "source": [
    "### Find $A$, $B$, $C$ and $D$ with curve fit"
   ]
  },
  {
   "attachments": {},
   "cell_type": "markdown",
   "metadata": {},
   "source": [
    "#### Extract thermistor data from datasheet"
   ]
  },
  {
   "cell_type": "code",
   "execution_count": 4,
   "metadata": {},
   "outputs": [],
   "source": [
    "data = read_excel(\"NTCLE350E4103FHB0.xlsx\", header=1)\n",
    "data = data.to_numpy()\n",
    "\n",
    "# Thermistor nominal resistance (25°C)\n",
    "R25 = 10e3\n",
    "\n",
    "T = data[:, 0]\n",
    "R = data[:, 1]\n",
    "ln = data[:, 2]\n",
    "dR = data[:, 3]\n",
    "alpha = data[:, 4]\n",
    "dT = data[:, 5]\n",
    "Rmin = data[:, 6]\n",
    "Rmax = data[:, 7]\n",
    "\n",
    "# Steinhart-Hart coefficients according to documentation\n",
    "A = 0.00335401643468053\n",
    "B = 0.000256523550896126\n",
    "C = 2.60597012072052e-06\n",
    "D = 6.32926126487455e-08"
   ]
  },
  {
   "attachments": {},
   "cell_type": "markdown",
   "metadata": {},
   "source": [
    "#### Define Steinhart-Hart equations"
   ]
  },
  {
   "cell_type": "code",
   "execution_count": 30,
   "metadata": {},
   "outputs": [],
   "source": [
    "def steinhart_hart(R: np.ndarray | float) -> np.ndarray | float:\n",
    "    \"\"\"Calculate thermistor temperature with Steinhart-Hart equation.\n",
    "\n",
    "    Parameters:\n",
    "    -----------\n",
    "        R : float\n",
    "            Thermistor resistance.\n",
    "\n",
    "    Returns:\n",
    "    --------\n",
    "        T : float\n",
    "            Thermistor temperature in kelvin.\n",
    "\n",
    "    \"\"\"\n",
    "    global A, B, C, D, R25\n",
    "\n",
    "    ln = R/R25\n",
    "    temp = A + B*np.log(ln) + C*np.log(ln)**2 + D*np.log(ln)**3\n",
    "    temp = temp**-1 - 273.15\n",
    "    return temp\n",
    "\n",
    "\n",
    "def steinhart_curvefit(R, A, B, C, D):\n",
    "    global R25\n",
    "\n",
    "    temp = A + B*np.log(R) + C*np.log(R)**2 + D*np.log(R)**3\n",
    "    temp = temp**-1 - 273.15\n",
    "    return temp\n",
    "\n",
    "\n",
    "def inv_steinhart(T: np.ndarray| float) -> np.ndarray | float:\n",
    "    \"\"\"Calculate thermistor resistance with Steinhart-Hart equation.\n",
    "\n",
    "    Args:\n",
    "        T : np.ndarray or float\n",
    "            Thermistor temperature in celsius.\n",
    "\n",
    "    Returns:\n",
    "        R : np.ndarray or float.\n",
    "            Thermistor resistance in ohms.\n",
    "\n",
    "    \"\"\"\n",
    "    a = np.where(data[:, 0]==T)\n",
    "    if len(a) > 0:\n",
    "        return data[:, 1][a][0]\n",
    "\n",
    "    global A, B, C, D, R25\n",
    "    \n",
    "    # Convert temperature to absolute\n",
    "    temp = T + 273.15\n",
    "\n",
    "    R = R25*np.exp(A + B/temp + C/temp**2 + D/temp**3)\n",
    "    return R"
   ]
  },
  {
   "cell_type": "code",
   "execution_count": 6,
   "metadata": {},
   "outputs": [
    {
     "data": {
      "text/plain": [
       "10033.605107461202"
      ]
     },
     "execution_count": 6,
     "metadata": {},
     "output_type": "execute_result"
    }
   ],
   "source": [
    "# Exemple\n",
    "steinhart_hart(11e3)\n",
    "inv_steinhart(25)"
   ]
  },
  {
   "attachments": {},
   "cell_type": "markdown",
   "metadata": {},
   "source": [
    "#### Curve fit data"
   ]
  },
  {
   "cell_type": "code",
   "execution_count": 18,
   "metadata": {},
   "outputs": [
    {
     "name": "stdout",
     "output_type": "stream",
     "text": [
      "Provided coeffs: [3.35401643e-03 2.56523551e-04 2.60597012e-06 6.32926126e-08]\n",
      "Fitted coeffs: [1.16305649e-03 2.24640258e-04 8.49792847e-07 6.37588556e-08]\n",
      "Average coeffs: [2.25853646e-03 2.40581905e-04 1.72788148e-06 6.35257341e-08]\n",
      "Coeffs precision: [5.47739985e-04 7.97082311e-06 4.39044319e-07 1.16560741e-10]\n"
     ]
    }
   ],
   "source": [
    "coeffs = np.array((A, B, C, D))\n",
    "p0 = [1e-4, 1e-4, 1e-6, 1e-7]  # Guess with provided values\n",
    "popt, _ = curve_fit(steinhart_curvefit, R, T, p0=coeffs)\n",
    "\n",
    "# Keep average of the two sets\n",
    "av = 0.5*(popt + coeffs)\n",
    "precision = np.abs(0.5*(popt-av))\n",
    "\n",
    "print(f\"Provided coeffs: {coeffs}\")\n",
    "print(f\"Fitted coeffs: {popt}\")\n",
    "print(f\"Average coeffs: {av}\")\n",
    "print(f\"Coeffs precision: {precision}\")"
   ]
  },
  {
   "attachments": {},
   "cell_type": "markdown",
   "metadata": {},
   "source": [
    "#### Plot fitted data"
   ]
  },
  {
   "cell_type": "code",
   "execution_count": 40,
   "metadata": {},
   "outputs": [
    {
     "data": {
      "image/svg+xml": "<?xml version=\"1.0\" encoding=\"utf-8\" standalone=\"no\"?>\n<!DOCTYPE svg PUBLIC \"-//W3C//DTD SVG 1.1//EN\"\n  \"http://www.w3.org/Graphics/SVG/1.1/DTD/svg11.dtd\">\n<svg xmlns:xlink=\"http://www.w3.org/1999/xlink\" width=\"424.4065pt\" height=\"321.087512pt\" viewBox=\"0 0 424.4065 321.087512\" xmlns=\"http://www.w3.org/2000/svg\" version=\"1.1\">\n <metadata>\n  <rdf:RDF xmlns:dc=\"http://purl.org/dc/elements/1.1/\" xmlns:cc=\"http://creativecommons.org/ns#\" xmlns:rdf=\"http://www.w3.org/1999/02/22-rdf-syntax-ns#\">\n   <cc:Work>\n    <dc:type rdf:resource=\"http://purl.org/dc/dcmitype/StillImage\"/>\n    <dc:date>2023-02-09T17:22:12.342926</dc:date>\n    <dc:format>image/svg+xml</dc:format>\n    <dc:creator>\n     <cc:Agent>\n      <dc:title>Matplotlib v3.6.3, https://matplotlib.org/</dc:title>\n     </cc:Agent>\n    </dc:creator>\n   </cc:Work>\n  </rdf:RDF>\n </metadata>\n <defs>\n  <style type=\"text/css\">*{stroke-linejoin: round; stroke-linecap: butt}</style>\n </defs>\n <g id=\"figure_1\">\n  <g id=\"patch_1\">\n   <path d=\"M 0 321.087512 \nL 424.4065 321.087512 \nL 424.4065 0 \nL 0 0 \nz\n\" style=\"fill: #ffffff\"/>\n  </g>\n  <g id=\"axes_1\">\n   <g id=\"patch_2\">\n    <path d=\"M 60.0865 276.741387 \nL 417.2065 276.741387 \nL 417.2065 10.629387 \nL 60.0865 10.629387 \nz\n\" style=\"fill: #ffffff\"/>\n   </g>\n   <g id=\"matplotlib.axis_1\">\n    <g id=\"xtick_1\">\n     <g id=\"line2d_1\">\n      <path d=\"M 83.0821 276.741387 \nL 83.0821 10.629387 \n\" clip-path=\"url(#p0ea68cde2b)\" style=\"fill: none; stroke-dasharray: 0.8,1.32; stroke-dashoffset: 0; stroke: #000000; stroke-opacity: 0.5; stroke-width: 0.8\"/>\n     </g>\n     <g id=\"line2d_2\">\n      <defs>\n       <path id=\"m9361a9e2f2\" d=\"M 0 0 \nL 0 -10 \n\" style=\"stroke: #000000\"/>\n      </defs>\n      <g>\n       <use xlink:href=\"#m9361a9e2f2\" x=\"83.0821\" y=\"276.741387\" style=\"stroke: #000000\"/>\n      </g>\n     </g>\n     <g id=\"text_1\">\n      <!-- −50 -->\n      <g transform=\"translate(72.529756 287.839824) scale(0.1 -0.1)\">\n       <defs>\n        <path id=\"DejaVuSans-2212\" d=\"M 678 2272 \nL 4684 2272 \nL 4684 1741 \nL 678 1741 \nL 678 2272 \nz\n\" transform=\"scale(0.015625)\"/>\n        <path id=\"DejaVuSans-35\" d=\"M 691 4666 \nL 3169 4666 \nL 3169 4134 \nL 1269 4134 \nL 1269 2991 \nQ 1406 3038 1543 3061 \nQ 1681 3084 1819 3084 \nQ 2600 3084 3056 2656 \nQ 3513 2228 3513 1497 \nQ 3513 744 3044 326 \nQ 2575 -91 1722 -91 \nQ 1428 -91 1123 -41 \nQ 819 9 494 109 \nL 494 744 \nQ 775 591 1075 516 \nQ 1375 441 1709 441 \nQ 2250 441 2565 725 \nQ 2881 1009 2881 1497 \nQ 2881 1984 2565 2268 \nQ 2250 2553 1709 2553 \nQ 1456 2553 1204 2497 \nQ 953 2441 691 2322 \nL 691 4666 \nz\n\" transform=\"scale(0.015625)\"/>\n        <path id=\"DejaVuSans-30\" d=\"M 2034 4250 \nQ 1547 4250 1301 3770 \nQ 1056 3291 1056 2328 \nQ 1056 1369 1301 889 \nQ 1547 409 2034 409 \nQ 2525 409 2770 889 \nQ 3016 1369 3016 2328 \nQ 3016 3291 2770 3770 \nQ 2525 4250 2034 4250 \nz\nM 2034 4750 \nQ 2819 4750 3233 4129 \nQ 3647 3509 3647 2328 \nQ 3647 1150 3233 529 \nQ 2819 -91 2034 -91 \nQ 1250 -91 836 529 \nQ 422 1150 422 2328 \nQ 422 3509 836 4129 \nQ 1250 4750 2034 4750 \nz\n\" transform=\"scale(0.015625)\"/>\n       </defs>\n       <use xlink:href=\"#DejaVuSans-2212\"/>\n       <use xlink:href=\"#DejaVuSans-35\" x=\"83.789062\"/>\n       <use xlink:href=\"#DejaVuSans-30\" x=\"147.412109\"/>\n      </g>\n     </g>\n    </g>\n    <g id=\"xtick_2\">\n     <g id=\"line2d_3\">\n      <path d=\"M 150.710822 276.741387 \nL 150.710822 10.629387 \n\" clip-path=\"url(#p0ea68cde2b)\" style=\"fill: none; stroke-dasharray: 0.8,1.32; stroke-dashoffset: 0; stroke: #000000; stroke-opacity: 0.5; stroke-width: 0.8\"/>\n     </g>\n     <g id=\"line2d_4\">\n      <g>\n       <use xlink:href=\"#m9361a9e2f2\" x=\"150.710822\" y=\"276.741387\" style=\"stroke: #000000\"/>\n      </g>\n     </g>\n     <g id=\"text_2\">\n      <!-- 0 -->\n      <g transform=\"translate(147.529572 287.839824) scale(0.1 -0.1)\">\n       <use xlink:href=\"#DejaVuSans-30\"/>\n      </g>\n     </g>\n    </g>\n    <g id=\"xtick_3\">\n     <g id=\"line2d_5\">\n      <path d=\"M 218.339545 276.741387 \nL 218.339545 10.629387 \n\" clip-path=\"url(#p0ea68cde2b)\" style=\"fill: none; stroke-dasharray: 0.8,1.32; stroke-dashoffset: 0; stroke: #000000; stroke-opacity: 0.5; stroke-width: 0.8\"/>\n     </g>\n     <g id=\"line2d_6\">\n      <g>\n       <use xlink:href=\"#m9361a9e2f2\" x=\"218.339545\" y=\"276.741387\" style=\"stroke: #000000\"/>\n      </g>\n     </g>\n     <g id=\"text_3\">\n      <!-- 50 -->\n      <g transform=\"translate(211.977045 287.839824) scale(0.1 -0.1)\">\n       <use xlink:href=\"#DejaVuSans-35\"/>\n       <use xlink:href=\"#DejaVuSans-30\" x=\"63.623047\"/>\n      </g>\n     </g>\n    </g>\n    <g id=\"xtick_4\">\n     <g id=\"line2d_7\">\n      <path d=\"M 285.968267 276.741387 \nL 285.968267 10.629387 \n\" clip-path=\"url(#p0ea68cde2b)\" style=\"fill: none; stroke-dasharray: 0.8,1.32; stroke-dashoffset: 0; stroke: #000000; stroke-opacity: 0.5; stroke-width: 0.8\"/>\n     </g>\n     <g id=\"line2d_8\">\n      <g>\n       <use xlink:href=\"#m9361a9e2f2\" x=\"285.968267\" y=\"276.741387\" style=\"stroke: #000000\"/>\n      </g>\n     </g>\n     <g id=\"text_4\">\n      <!-- 100 -->\n      <g transform=\"translate(276.424517 287.839824) scale(0.1 -0.1)\">\n       <defs>\n        <path id=\"DejaVuSans-31\" d=\"M 794 531 \nL 1825 531 \nL 1825 4091 \nL 703 3866 \nL 703 4441 \nL 1819 4666 \nL 2450 4666 \nL 2450 531 \nL 3481 531 \nL 3481 0 \nL 794 0 \nL 794 531 \nz\n\" transform=\"scale(0.015625)\"/>\n       </defs>\n       <use xlink:href=\"#DejaVuSans-31\"/>\n       <use xlink:href=\"#DejaVuSans-30\" x=\"63.623047\"/>\n       <use xlink:href=\"#DejaVuSans-30\" x=\"127.246094\"/>\n      </g>\n     </g>\n    </g>\n    <g id=\"xtick_5\">\n     <g id=\"line2d_9\">\n      <path d=\"M 353.59699 276.741387 \nL 353.59699 10.629387 \n\" clip-path=\"url(#p0ea68cde2b)\" style=\"fill: none; stroke-dasharray: 0.8,1.32; stroke-dashoffset: 0; stroke: #000000; stroke-opacity: 0.5; stroke-width: 0.8\"/>\n     </g>\n     <g id=\"line2d_10\">\n      <g>\n       <use xlink:href=\"#m9361a9e2f2\" x=\"353.59699\" y=\"276.741387\" style=\"stroke: #000000\"/>\n      </g>\n     </g>\n     <g id=\"text_5\">\n      <!-- 150 -->\n      <g transform=\"translate(344.05324 287.839824) scale(0.1 -0.1)\">\n       <use xlink:href=\"#DejaVuSans-31\"/>\n       <use xlink:href=\"#DejaVuSans-35\" x=\"63.623047\"/>\n       <use xlink:href=\"#DejaVuSans-30\" x=\"127.246094\"/>\n      </g>\n     </g>\n    </g>\n    <g id=\"xtick_6\">\n     <g id=\"line2d_11\">\n      <path d=\"M 69.556355 276.741387 \nL 69.556355 10.629387 \n\" clip-path=\"url(#p0ea68cde2b)\" style=\"fill: none; stroke-dasharray: 0.8,1.32; stroke-dashoffset: 0; stroke: #000000; stroke-opacity: 0.5; stroke-width: 0.8\"/>\n     </g>\n     <g id=\"line2d_12\">\n      <defs>\n       <path id=\"m2e5e84785f\" d=\"M 0 0 \nL 0 -5 \n\" style=\"stroke: #000000; stroke-width: 0.5\"/>\n      </defs>\n      <g>\n       <use xlink:href=\"#m2e5e84785f\" x=\"69.556355\" y=\"276.741387\" style=\"stroke: #000000; stroke-width: 0.5\"/>\n      </g>\n     </g>\n    </g>\n    <g id=\"xtick_7\">\n     <g id=\"line2d_13\">\n      <path d=\"M 96.607844 276.741387 \nL 96.607844 10.629387 \n\" clip-path=\"url(#p0ea68cde2b)\" style=\"fill: none; stroke-dasharray: 0.8,1.32; stroke-dashoffset: 0; stroke: #000000; stroke-opacity: 0.5; stroke-width: 0.8\"/>\n     </g>\n     <g id=\"line2d_14\">\n      <g>\n       <use xlink:href=\"#m2e5e84785f\" x=\"96.607844\" y=\"276.741387\" style=\"stroke: #000000; stroke-width: 0.5\"/>\n      </g>\n     </g>\n    </g>\n    <g id=\"xtick_8\">\n     <g id=\"line2d_15\">\n      <path d=\"M 110.133589 276.741387 \nL 110.133589 10.629387 \n\" clip-path=\"url(#p0ea68cde2b)\" style=\"fill: none; stroke-dasharray: 0.8,1.32; stroke-dashoffset: 0; stroke: #000000; stroke-opacity: 0.5; stroke-width: 0.8\"/>\n     </g>\n     <g id=\"line2d_16\">\n      <g>\n       <use xlink:href=\"#m2e5e84785f\" x=\"110.133589\" y=\"276.741387\" style=\"stroke: #000000; stroke-width: 0.5\"/>\n      </g>\n     </g>\n    </g>\n    <g id=\"xtick_9\">\n     <g id=\"line2d_17\">\n      <path d=\"M 123.659333 276.741387 \nL 123.659333 10.629387 \n\" clip-path=\"url(#p0ea68cde2b)\" style=\"fill: none; stroke-dasharray: 0.8,1.32; stroke-dashoffset: 0; stroke: #000000; stroke-opacity: 0.5; stroke-width: 0.8\"/>\n     </g>\n     <g id=\"line2d_18\">\n      <g>\n       <use xlink:href=\"#m2e5e84785f\" x=\"123.659333\" y=\"276.741387\" style=\"stroke: #000000; stroke-width: 0.5\"/>\n      </g>\n     </g>\n    </g>\n    <g id=\"xtick_10\">\n     <g id=\"line2d_19\">\n      <path d=\"M 137.185078 276.741387 \nL 137.185078 10.629387 \n\" clip-path=\"url(#p0ea68cde2b)\" style=\"fill: none; stroke-dasharray: 0.8,1.32; stroke-dashoffset: 0; stroke: #000000; stroke-opacity: 0.5; stroke-width: 0.8\"/>\n     </g>\n     <g id=\"line2d_20\">\n      <g>\n       <use xlink:href=\"#m2e5e84785f\" x=\"137.185078\" y=\"276.741387\" style=\"stroke: #000000; stroke-width: 0.5\"/>\n      </g>\n     </g>\n    </g>\n    <g id=\"xtick_11\">\n     <g id=\"line2d_21\">\n      <path d=\"M 164.236567 276.741387 \nL 164.236567 10.629387 \n\" clip-path=\"url(#p0ea68cde2b)\" style=\"fill: none; stroke-dasharray: 0.8,1.32; stroke-dashoffset: 0; stroke: #000000; stroke-opacity: 0.5; stroke-width: 0.8\"/>\n     </g>\n     <g id=\"line2d_22\">\n      <g>\n       <use xlink:href=\"#m2e5e84785f\" x=\"164.236567\" y=\"276.741387\" style=\"stroke: #000000; stroke-width: 0.5\"/>\n      </g>\n     </g>\n    </g>\n    <g id=\"xtick_12\">\n     <g id=\"line2d_23\">\n      <path d=\"M 177.762311 276.741387 \nL 177.762311 10.629387 \n\" clip-path=\"url(#p0ea68cde2b)\" style=\"fill: none; stroke-dasharray: 0.8,1.32; stroke-dashoffset: 0; stroke: #000000; stroke-opacity: 0.5; stroke-width: 0.8\"/>\n     </g>\n     <g id=\"line2d_24\">\n      <g>\n       <use xlink:href=\"#m2e5e84785f\" x=\"177.762311\" y=\"276.741387\" style=\"stroke: #000000; stroke-width: 0.5\"/>\n      </g>\n     </g>\n    </g>\n    <g id=\"xtick_13\">\n     <g id=\"line2d_25\">\n      <path d=\"M 191.288056 276.741387 \nL 191.288056 10.629387 \n\" clip-path=\"url(#p0ea68cde2b)\" style=\"fill: none; stroke-dasharray: 0.8,1.32; stroke-dashoffset: 0; stroke: #000000; stroke-opacity: 0.5; stroke-width: 0.8\"/>\n     </g>\n     <g id=\"line2d_26\">\n      <g>\n       <use xlink:href=\"#m2e5e84785f\" x=\"191.288056\" y=\"276.741387\" style=\"stroke: #000000; stroke-width: 0.5\"/>\n      </g>\n     </g>\n    </g>\n    <g id=\"xtick_14\">\n     <g id=\"line2d_27\">\n      <path d=\"M 204.8138 276.741387 \nL 204.8138 10.629387 \n\" clip-path=\"url(#p0ea68cde2b)\" style=\"fill: none; stroke-dasharray: 0.8,1.32; stroke-dashoffset: 0; stroke: #000000; stroke-opacity: 0.5; stroke-width: 0.8\"/>\n     </g>\n     <g id=\"line2d_28\">\n      <g>\n       <use xlink:href=\"#m2e5e84785f\" x=\"204.8138\" y=\"276.741387\" style=\"stroke: #000000; stroke-width: 0.5\"/>\n      </g>\n     </g>\n    </g>\n    <g id=\"xtick_15\">\n     <g id=\"line2d_29\">\n      <path d=\"M 231.865289 276.741387 \nL 231.865289 10.629387 \n\" clip-path=\"url(#p0ea68cde2b)\" style=\"fill: none; stroke-dasharray: 0.8,1.32; stroke-dashoffset: 0; stroke: #000000; stroke-opacity: 0.5; stroke-width: 0.8\"/>\n     </g>\n     <g id=\"line2d_30\">\n      <g>\n       <use xlink:href=\"#m2e5e84785f\" x=\"231.865289\" y=\"276.741387\" style=\"stroke: #000000; stroke-width: 0.5\"/>\n      </g>\n     </g>\n    </g>\n    <g id=\"xtick_16\">\n     <g id=\"line2d_31\">\n      <path d=\"M 245.391034 276.741387 \nL 245.391034 10.629387 \n\" clip-path=\"url(#p0ea68cde2b)\" style=\"fill: none; stroke-dasharray: 0.8,1.32; stroke-dashoffset: 0; stroke: #000000; stroke-opacity: 0.5; stroke-width: 0.8\"/>\n     </g>\n     <g id=\"line2d_32\">\n      <g>\n       <use xlink:href=\"#m2e5e84785f\" x=\"245.391034\" y=\"276.741387\" style=\"stroke: #000000; stroke-width: 0.5\"/>\n      </g>\n     </g>\n    </g>\n    <g id=\"xtick_17\">\n     <g id=\"line2d_33\">\n      <path d=\"M 258.916778 276.741387 \nL 258.916778 10.629387 \n\" clip-path=\"url(#p0ea68cde2b)\" style=\"fill: none; stroke-dasharray: 0.8,1.32; stroke-dashoffset: 0; stroke: #000000; stroke-opacity: 0.5; stroke-width: 0.8\"/>\n     </g>\n     <g id=\"line2d_34\">\n      <g>\n       <use xlink:href=\"#m2e5e84785f\" x=\"258.916778\" y=\"276.741387\" style=\"stroke: #000000; stroke-width: 0.5\"/>\n      </g>\n     </g>\n    </g>\n    <g id=\"xtick_18\">\n     <g id=\"line2d_35\">\n      <path d=\"M 272.442523 276.741387 \nL 272.442523 10.629387 \n\" clip-path=\"url(#p0ea68cde2b)\" style=\"fill: none; stroke-dasharray: 0.8,1.32; stroke-dashoffset: 0; stroke: #000000; stroke-opacity: 0.5; stroke-width: 0.8\"/>\n     </g>\n     <g id=\"line2d_36\">\n      <g>\n       <use xlink:href=\"#m2e5e84785f\" x=\"272.442523\" y=\"276.741387\" style=\"stroke: #000000; stroke-width: 0.5\"/>\n      </g>\n     </g>\n    </g>\n    <g id=\"xtick_19\">\n     <g id=\"line2d_37\">\n      <path d=\"M 299.494012 276.741387 \nL 299.494012 10.629387 \n\" clip-path=\"url(#p0ea68cde2b)\" style=\"fill: none; stroke-dasharray: 0.8,1.32; stroke-dashoffset: 0; stroke: #000000; stroke-opacity: 0.5; stroke-width: 0.8\"/>\n     </g>\n     <g id=\"line2d_38\">\n      <g>\n       <use xlink:href=\"#m2e5e84785f\" x=\"299.494012\" y=\"276.741387\" style=\"stroke: #000000; stroke-width: 0.5\"/>\n      </g>\n     </g>\n    </g>\n    <g id=\"xtick_20\">\n     <g id=\"line2d_39\">\n      <path d=\"M 313.019756 276.741387 \nL 313.019756 10.629387 \n\" clip-path=\"url(#p0ea68cde2b)\" style=\"fill: none; stroke-dasharray: 0.8,1.32; stroke-dashoffset: 0; stroke: #000000; stroke-opacity: 0.5; stroke-width: 0.8\"/>\n     </g>\n     <g id=\"line2d_40\">\n      <g>\n       <use xlink:href=\"#m2e5e84785f\" x=\"313.019756\" y=\"276.741387\" style=\"stroke: #000000; stroke-width: 0.5\"/>\n      </g>\n     </g>\n    </g>\n    <g id=\"xtick_21\">\n     <g id=\"line2d_41\">\n      <path d=\"M 326.545501 276.741387 \nL 326.545501 10.629387 \n\" clip-path=\"url(#p0ea68cde2b)\" style=\"fill: none; stroke-dasharray: 0.8,1.32; stroke-dashoffset: 0; stroke: #000000; stroke-opacity: 0.5; stroke-width: 0.8\"/>\n     </g>\n     <g id=\"line2d_42\">\n      <g>\n       <use xlink:href=\"#m2e5e84785f\" x=\"326.545501\" y=\"276.741387\" style=\"stroke: #000000; stroke-width: 0.5\"/>\n      </g>\n     </g>\n    </g>\n    <g id=\"xtick_22\">\n     <g id=\"line2d_43\">\n      <path d=\"M 340.071245 276.741387 \nL 340.071245 10.629387 \n\" clip-path=\"url(#p0ea68cde2b)\" style=\"fill: none; stroke-dasharray: 0.8,1.32; stroke-dashoffset: 0; stroke: #000000; stroke-opacity: 0.5; stroke-width: 0.8\"/>\n     </g>\n     <g id=\"line2d_44\">\n      <g>\n       <use xlink:href=\"#m2e5e84785f\" x=\"340.071245\" y=\"276.741387\" style=\"stroke: #000000; stroke-width: 0.5\"/>\n      </g>\n     </g>\n    </g>\n    <g id=\"xtick_23\">\n     <g id=\"line2d_45\">\n      <path d=\"M 367.122734 276.741387 \nL 367.122734 10.629387 \n\" clip-path=\"url(#p0ea68cde2b)\" style=\"fill: none; stroke-dasharray: 0.8,1.32; stroke-dashoffset: 0; stroke: #000000; stroke-opacity: 0.5; stroke-width: 0.8\"/>\n     </g>\n     <g id=\"line2d_46\">\n      <g>\n       <use xlink:href=\"#m2e5e84785f\" x=\"367.122734\" y=\"276.741387\" style=\"stroke: #000000; stroke-width: 0.5\"/>\n      </g>\n     </g>\n    </g>\n    <g id=\"xtick_24\">\n     <g id=\"line2d_47\">\n      <path d=\"M 380.648479 276.741387 \nL 380.648479 10.629387 \n\" clip-path=\"url(#p0ea68cde2b)\" style=\"fill: none; stroke-dasharray: 0.8,1.32; stroke-dashoffset: 0; stroke: #000000; stroke-opacity: 0.5; stroke-width: 0.8\"/>\n     </g>\n     <g id=\"line2d_48\">\n      <g>\n       <use xlink:href=\"#m2e5e84785f\" x=\"380.648479\" y=\"276.741387\" style=\"stroke: #000000; stroke-width: 0.5\"/>\n      </g>\n     </g>\n    </g>\n    <g id=\"xtick_25\">\n     <g id=\"line2d_49\">\n      <path d=\"M 394.174223 276.741387 \nL 394.174223 10.629387 \n\" clip-path=\"url(#p0ea68cde2b)\" style=\"fill: none; stroke-dasharray: 0.8,1.32; stroke-dashoffset: 0; stroke: #000000; stroke-opacity: 0.5; stroke-width: 0.8\"/>\n     </g>\n     <g id=\"line2d_50\">\n      <g>\n       <use xlink:href=\"#m2e5e84785f\" x=\"394.174223\" y=\"276.741387\" style=\"stroke: #000000; stroke-width: 0.5\"/>\n      </g>\n     </g>\n    </g>\n    <g id=\"xtick_26\">\n     <g id=\"line2d_51\">\n      <path d=\"M 407.699968 276.741387 \nL 407.699968 10.629387 \n\" clip-path=\"url(#p0ea68cde2b)\" style=\"fill: none; stroke-dasharray: 0.8,1.32; stroke-dashoffset: 0; stroke: #000000; stroke-opacity: 0.5; stroke-width: 0.8\"/>\n     </g>\n     <g id=\"line2d_52\">\n      <g>\n       <use xlink:href=\"#m2e5e84785f\" x=\"407.699968\" y=\"276.741387\" style=\"stroke: #000000; stroke-width: 0.5\"/>\n      </g>\n     </g>\n    </g>\n    <g id=\"text_6\">\n     <!-- Temperature [$\\degree$C] -->\n     <g transform=\"translate(175.0705 310.863512) scale(0.144 -0.144)\">\n      <defs>\n       <path id=\"DejaVuSans-54\" d=\"M -19 4666 \nL 3928 4666 \nL 3928 4134 \nL 2272 4134 \nL 2272 0 \nL 1638 0 \nL 1638 4134 \nL -19 4134 \nL -19 4666 \nz\n\" transform=\"scale(0.015625)\"/>\n       <path id=\"DejaVuSans-65\" d=\"M 3597 1894 \nL 3597 1613 \nL 953 1613 \nQ 991 1019 1311 708 \nQ 1631 397 2203 397 \nQ 2534 397 2845 478 \nQ 3156 559 3463 722 \nL 3463 178 \nQ 3153 47 2828 -22 \nQ 2503 -91 2169 -91 \nQ 1331 -91 842 396 \nQ 353 884 353 1716 \nQ 353 2575 817 3079 \nQ 1281 3584 2069 3584 \nQ 2775 3584 3186 3129 \nQ 3597 2675 3597 1894 \nz\nM 3022 2063 \nQ 3016 2534 2758 2815 \nQ 2500 3097 2075 3097 \nQ 1594 3097 1305 2825 \nQ 1016 2553 972 2059 \nL 3022 2063 \nz\n\" transform=\"scale(0.015625)\"/>\n       <path id=\"DejaVuSans-6d\" d=\"M 3328 2828 \nQ 3544 3216 3844 3400 \nQ 4144 3584 4550 3584 \nQ 5097 3584 5394 3201 \nQ 5691 2819 5691 2113 \nL 5691 0 \nL 5113 0 \nL 5113 2094 \nQ 5113 2597 4934 2840 \nQ 4756 3084 4391 3084 \nQ 3944 3084 3684 2787 \nQ 3425 2491 3425 1978 \nL 3425 0 \nL 2847 0 \nL 2847 2094 \nQ 2847 2600 2669 2842 \nQ 2491 3084 2119 3084 \nQ 1678 3084 1418 2786 \nQ 1159 2488 1159 1978 \nL 1159 0 \nL 581 0 \nL 581 3500 \nL 1159 3500 \nL 1159 2956 \nQ 1356 3278 1631 3431 \nQ 1906 3584 2284 3584 \nQ 2666 3584 2933 3390 \nQ 3200 3197 3328 2828 \nz\n\" transform=\"scale(0.015625)\"/>\n       <path id=\"DejaVuSans-70\" d=\"M 1159 525 \nL 1159 -1331 \nL 581 -1331 \nL 581 3500 \nL 1159 3500 \nL 1159 2969 \nQ 1341 3281 1617 3432 \nQ 1894 3584 2278 3584 \nQ 2916 3584 3314 3078 \nQ 3713 2572 3713 1747 \nQ 3713 922 3314 415 \nQ 2916 -91 2278 -91 \nQ 1894 -91 1617 61 \nQ 1341 213 1159 525 \nz\nM 3116 1747 \nQ 3116 2381 2855 2742 \nQ 2594 3103 2138 3103 \nQ 1681 3103 1420 2742 \nQ 1159 2381 1159 1747 \nQ 1159 1113 1420 752 \nQ 1681 391 2138 391 \nQ 2594 391 2855 752 \nQ 3116 1113 3116 1747 \nz\n\" transform=\"scale(0.015625)\"/>\n       <path id=\"DejaVuSans-72\" d=\"M 2631 2963 \nQ 2534 3019 2420 3045 \nQ 2306 3072 2169 3072 \nQ 1681 3072 1420 2755 \nQ 1159 2438 1159 1844 \nL 1159 0 \nL 581 0 \nL 581 3500 \nL 1159 3500 \nL 1159 2956 \nQ 1341 3275 1631 3429 \nQ 1922 3584 2338 3584 \nQ 2397 3584 2469 3576 \nQ 2541 3569 2628 3553 \nL 2631 2963 \nz\n\" transform=\"scale(0.015625)\"/>\n       <path id=\"DejaVuSans-61\" d=\"M 2194 1759 \nQ 1497 1759 1228 1600 \nQ 959 1441 959 1056 \nQ 959 750 1161 570 \nQ 1363 391 1709 391 \nQ 2188 391 2477 730 \nQ 2766 1069 2766 1631 \nL 2766 1759 \nL 2194 1759 \nz\nM 3341 1997 \nL 3341 0 \nL 2766 0 \nL 2766 531 \nQ 2569 213 2275 61 \nQ 1981 -91 1556 -91 \nQ 1019 -91 701 211 \nQ 384 513 384 1019 \nQ 384 1609 779 1909 \nQ 1175 2209 1959 2209 \nL 2766 2209 \nL 2766 2266 \nQ 2766 2663 2505 2880 \nQ 2244 3097 1772 3097 \nQ 1472 3097 1187 3025 \nQ 903 2953 641 2809 \nL 641 3341 \nQ 956 3463 1253 3523 \nQ 1550 3584 1831 3584 \nQ 2591 3584 2966 3190 \nQ 3341 2797 3341 1997 \nz\n\" transform=\"scale(0.015625)\"/>\n       <path id=\"DejaVuSans-74\" d=\"M 1172 4494 \nL 1172 3500 \nL 2356 3500 \nL 2356 3053 \nL 1172 3053 \nL 1172 1153 \nQ 1172 725 1289 603 \nQ 1406 481 1766 481 \nL 2356 481 \nL 2356 0 \nL 1766 0 \nQ 1100 0 847 248 \nQ 594 497 594 1153 \nL 594 3053 \nL 172 3053 \nL 172 3500 \nL 594 3500 \nL 594 4494 \nL 1172 4494 \nz\n\" transform=\"scale(0.015625)\"/>\n       <path id=\"DejaVuSans-75\" d=\"M 544 1381 \nL 544 3500 \nL 1119 3500 \nL 1119 1403 \nQ 1119 906 1312 657 \nQ 1506 409 1894 409 \nQ 2359 409 2629 706 \nQ 2900 1003 2900 1516 \nL 2900 3500 \nL 3475 3500 \nL 3475 0 \nL 2900 0 \nL 2900 538 \nQ 2691 219 2414 64 \nQ 2138 -91 1772 -91 \nQ 1169 -91 856 284 \nQ 544 659 544 1381 \nz\nM 1991 3584 \nL 1991 3584 \nz\n\" transform=\"scale(0.015625)\"/>\n       <path id=\"DejaVuSans-20\" transform=\"scale(0.015625)\"/>\n       <path id=\"DejaVuSans-5b\" d=\"M 550 4863 \nL 1875 4863 \nL 1875 4416 \nL 1125 4416 \nL 1125 -397 \nL 1875 -397 \nL 1875 -844 \nL 550 -844 \nL 550 4863 \nz\n\" transform=\"scale(0.015625)\"/>\n       <path id=\"DejaVuSans-b0\" d=\"M 1600 4347 \nQ 1350 4347 1178 4173 \nQ 1006 4000 1006 3750 \nQ 1006 3503 1178 3333 \nQ 1350 3163 1600 3163 \nQ 1850 3163 2022 3333 \nQ 2194 3503 2194 3750 \nQ 2194 3997 2020 4172 \nQ 1847 4347 1600 4347 \nz\nM 1600 4750 \nQ 1800 4750 1984 4673 \nQ 2169 4597 2303 4453 \nQ 2447 4313 2519 4134 \nQ 2591 3956 2591 3750 \nQ 2591 3338 2302 3052 \nQ 2013 2766 1594 2766 \nQ 1172 2766 890 3047 \nQ 609 3328 609 3750 \nQ 609 4169 896 4459 \nQ 1184 4750 1600 4750 \nz\n\" transform=\"scale(0.015625)\"/>\n       <path id=\"DejaVuSans-43\" d=\"M 4122 4306 \nL 4122 3641 \nQ 3803 3938 3442 4084 \nQ 3081 4231 2675 4231 \nQ 1875 4231 1450 3742 \nQ 1025 3253 1025 2328 \nQ 1025 1406 1450 917 \nQ 1875 428 2675 428 \nQ 3081 428 3442 575 \nQ 3803 722 4122 1019 \nL 4122 359 \nQ 3791 134 3420 21 \nQ 3050 -91 2638 -91 \nQ 1578 -91 968 557 \nQ 359 1206 359 2328 \nQ 359 3453 968 4101 \nQ 1578 4750 2638 4750 \nQ 3056 4750 3426 4639 \nQ 3797 4528 4122 4306 \nz\n\" transform=\"scale(0.015625)\"/>\n       <path id=\"DejaVuSans-5d\" d=\"M 1947 4863 \nL 1947 -844 \nL 622 -844 \nL 622 -397 \nL 1369 -397 \nL 1369 4416 \nL 622 4416 \nL 622 4863 \nL 1947 4863 \nz\n\" transform=\"scale(0.015625)\"/>\n      </defs>\n      <use xlink:href=\"#DejaVuSans-54\" transform=\"translate(0 0.015625)\"/>\n      <use xlink:href=\"#DejaVuSans-65\" transform=\"translate(61.083984 0.015625)\"/>\n      <use xlink:href=\"#DejaVuSans-6d\" transform=\"translate(122.607422 0.015625)\"/>\n      <use xlink:href=\"#DejaVuSans-70\" transform=\"translate(220.019531 0.015625)\"/>\n      <use xlink:href=\"#DejaVuSans-65\" transform=\"translate(283.496094 0.015625)\"/>\n      <use xlink:href=\"#DejaVuSans-72\" transform=\"translate(345.019531 0.015625)\"/>\n      <use xlink:href=\"#DejaVuSans-61\" transform=\"translate(386.132812 0.015625)\"/>\n      <use xlink:href=\"#DejaVuSans-74\" transform=\"translate(447.412109 0.015625)\"/>\n      <use xlink:href=\"#DejaVuSans-75\" transform=\"translate(486.621094 0.015625)\"/>\n      <use xlink:href=\"#DejaVuSans-72\" transform=\"translate(550 0.015625)\"/>\n      <use xlink:href=\"#DejaVuSans-65\" transform=\"translate(591.113281 0.015625)\"/>\n      <use xlink:href=\"#DejaVuSans-20\" transform=\"translate(652.636719 0.015625)\"/>\n      <use xlink:href=\"#DejaVuSans-5b\" transform=\"translate(684.423828 0.015625)\"/>\n      <use xlink:href=\"#DejaVuSans-b0\" transform=\"translate(723.4375 0.015625)\"/>\n      <use xlink:href=\"#DejaVuSans-43\" transform=\"translate(773.4375 0.015625)\"/>\n      <use xlink:href=\"#DejaVuSans-5d\" transform=\"translate(843.261719 0.015625)\"/>\n     </g>\n    </g>\n   </g>\n   <g id=\"matplotlib.axis_2\">\n    <g id=\"ytick_1\">\n     <g id=\"line2d_53\">\n      <path d=\"M 60.0865 264.666875 \nL 417.2065 264.666875 \n\" clip-path=\"url(#p0ea68cde2b)\" style=\"fill: none; stroke-dasharray: 0.8,1.32; stroke-dashoffset: 0; stroke: #000000; stroke-opacity: 0.5; stroke-width: 0.8\"/>\n     </g>\n     <g id=\"line2d_54\">\n      <defs>\n       <path id=\"m61cd2ce399\" d=\"M 0 0 \nL 10 0 \n\" style=\"stroke: #000000\"/>\n      </defs>\n      <g>\n       <use xlink:href=\"#m61cd2ce399\" x=\"60.0865\" y=\"264.666875\" style=\"stroke: #000000\"/>\n      </g>\n     </g>\n     <g id=\"text_7\">\n      <!-- 0 -->\n      <g transform=\"translate(50.224 268.466094) scale(0.1 -0.1)\">\n       <use xlink:href=\"#DejaVuSans-30\"/>\n      </g>\n     </g>\n    </g>\n    <g id=\"ytick_2\">\n     <g id=\"line2d_55\">\n      <path d=\"M 60.0865 213.933344 \nL 417.2065 213.933344 \n\" clip-path=\"url(#p0ea68cde2b)\" style=\"fill: none; stroke-dasharray: 0.8,1.32; stroke-dashoffset: 0; stroke: #000000; stroke-opacity: 0.5; stroke-width: 0.8\"/>\n     </g>\n     <g id=\"line2d_56\">\n      <g>\n       <use xlink:href=\"#m61cd2ce399\" x=\"60.0865\" y=\"213.933344\" style=\"stroke: #000000\"/>\n      </g>\n     </g>\n     <g id=\"text_8\">\n      <!-- 200 -->\n      <g transform=\"translate(37.499 217.732562) scale(0.1 -0.1)\">\n       <defs>\n        <path id=\"DejaVuSans-32\" d=\"M 1228 531 \nL 3431 531 \nL 3431 0 \nL 469 0 \nL 469 531 \nQ 828 903 1448 1529 \nQ 2069 2156 2228 2338 \nQ 2531 2678 2651 2914 \nQ 2772 3150 2772 3378 \nQ 2772 3750 2511 3984 \nQ 2250 4219 1831 4219 \nQ 1534 4219 1204 4116 \nQ 875 4013 500 3803 \nL 500 4441 \nQ 881 4594 1212 4672 \nQ 1544 4750 1819 4750 \nQ 2544 4750 2975 4387 \nQ 3406 4025 3406 3419 \nQ 3406 3131 3298 2873 \nQ 3191 2616 2906 2266 \nQ 2828 2175 2409 1742 \nQ 1991 1309 1228 531 \nz\n\" transform=\"scale(0.015625)\"/>\n       </defs>\n       <use xlink:href=\"#DejaVuSans-32\"/>\n       <use xlink:href=\"#DejaVuSans-30\" x=\"63.623047\"/>\n       <use xlink:href=\"#DejaVuSans-30\" x=\"127.246094\"/>\n      </g>\n     </g>\n    </g>\n    <g id=\"ytick_3\">\n     <g id=\"line2d_57\">\n      <path d=\"M 60.0865 163.199812 \nL 417.2065 163.199812 \n\" clip-path=\"url(#p0ea68cde2b)\" style=\"fill: none; stroke-dasharray: 0.8,1.32; stroke-dashoffset: 0; stroke: #000000; stroke-opacity: 0.5; stroke-width: 0.8\"/>\n     </g>\n     <g id=\"line2d_58\">\n      <g>\n       <use xlink:href=\"#m61cd2ce399\" x=\"60.0865\" y=\"163.199812\" style=\"stroke: #000000\"/>\n      </g>\n     </g>\n     <g id=\"text_9\">\n      <!-- 400 -->\n      <g transform=\"translate(37.499 166.999031) scale(0.1 -0.1)\">\n       <defs>\n        <path id=\"DejaVuSans-34\" d=\"M 2419 4116 \nL 825 1625 \nL 2419 1625 \nL 2419 4116 \nz\nM 2253 4666 \nL 3047 4666 \nL 3047 1625 \nL 3713 1625 \nL 3713 1100 \nL 3047 1100 \nL 3047 0 \nL 2419 0 \nL 2419 1100 \nL 313 1100 \nL 313 1709 \nL 2253 4666 \nz\n\" transform=\"scale(0.015625)\"/>\n       </defs>\n       <use xlink:href=\"#DejaVuSans-34\"/>\n       <use xlink:href=\"#DejaVuSans-30\" x=\"63.623047\"/>\n       <use xlink:href=\"#DejaVuSans-30\" x=\"127.246094\"/>\n      </g>\n     </g>\n    </g>\n    <g id=\"ytick_4\">\n     <g id=\"line2d_59\">\n      <path d=\"M 60.0865 112.466281 \nL 417.2065 112.466281 \n\" clip-path=\"url(#p0ea68cde2b)\" style=\"fill: none; stroke-dasharray: 0.8,1.32; stroke-dashoffset: 0; stroke: #000000; stroke-opacity: 0.5; stroke-width: 0.8\"/>\n     </g>\n     <g id=\"line2d_60\">\n      <g>\n       <use xlink:href=\"#m61cd2ce399\" x=\"60.0865\" y=\"112.466281\" style=\"stroke: #000000\"/>\n      </g>\n     </g>\n     <g id=\"text_10\">\n      <!-- 600 -->\n      <g transform=\"translate(37.499 116.2655) scale(0.1 -0.1)\">\n       <defs>\n        <path id=\"DejaVuSans-36\" d=\"M 2113 2584 \nQ 1688 2584 1439 2293 \nQ 1191 2003 1191 1497 \nQ 1191 994 1439 701 \nQ 1688 409 2113 409 \nQ 2538 409 2786 701 \nQ 3034 994 3034 1497 \nQ 3034 2003 2786 2293 \nQ 2538 2584 2113 2584 \nz\nM 3366 4563 \nL 3366 3988 \nQ 3128 4100 2886 4159 \nQ 2644 4219 2406 4219 \nQ 1781 4219 1451 3797 \nQ 1122 3375 1075 2522 \nQ 1259 2794 1537 2939 \nQ 1816 3084 2150 3084 \nQ 2853 3084 3261 2657 \nQ 3669 2231 3669 1497 \nQ 3669 778 3244 343 \nQ 2819 -91 2113 -91 \nQ 1303 -91 875 529 \nQ 447 1150 447 2328 \nQ 447 3434 972 4092 \nQ 1497 4750 2381 4750 \nQ 2619 4750 2861 4703 \nQ 3103 4656 3366 4563 \nz\n\" transform=\"scale(0.015625)\"/>\n       </defs>\n       <use xlink:href=\"#DejaVuSans-36\"/>\n       <use xlink:href=\"#DejaVuSans-30\" x=\"63.623047\"/>\n       <use xlink:href=\"#DejaVuSans-30\" x=\"127.246094\"/>\n      </g>\n     </g>\n    </g>\n    <g id=\"ytick_5\">\n     <g id=\"line2d_61\">\n      <path d=\"M 60.0865 61.73275 \nL 417.2065 61.73275 \n\" clip-path=\"url(#p0ea68cde2b)\" style=\"fill: none; stroke-dasharray: 0.8,1.32; stroke-dashoffset: 0; stroke: #000000; stroke-opacity: 0.5; stroke-width: 0.8\"/>\n     </g>\n     <g id=\"line2d_62\">\n      <g>\n       <use xlink:href=\"#m61cd2ce399\" x=\"60.0865\" y=\"61.73275\" style=\"stroke: #000000\"/>\n      </g>\n     </g>\n     <g id=\"text_11\">\n      <!-- 800 -->\n      <g transform=\"translate(37.499 65.531969) scale(0.1 -0.1)\">\n       <defs>\n        <path id=\"DejaVuSans-38\" d=\"M 2034 2216 \nQ 1584 2216 1326 1975 \nQ 1069 1734 1069 1313 \nQ 1069 891 1326 650 \nQ 1584 409 2034 409 \nQ 2484 409 2743 651 \nQ 3003 894 3003 1313 \nQ 3003 1734 2745 1975 \nQ 2488 2216 2034 2216 \nz\nM 1403 2484 \nQ 997 2584 770 2862 \nQ 544 3141 544 3541 \nQ 544 4100 942 4425 \nQ 1341 4750 2034 4750 \nQ 2731 4750 3128 4425 \nQ 3525 4100 3525 3541 \nQ 3525 3141 3298 2862 \nQ 3072 2584 2669 2484 \nQ 3125 2378 3379 2068 \nQ 3634 1759 3634 1313 \nQ 3634 634 3220 271 \nQ 2806 -91 2034 -91 \nQ 1263 -91 848 271 \nQ 434 634 434 1313 \nQ 434 1759 690 2068 \nQ 947 2378 1403 2484 \nz\nM 1172 3481 \nQ 1172 3119 1398 2916 \nQ 1625 2713 2034 2713 \nQ 2441 2713 2670 2916 \nQ 2900 3119 2900 3481 \nQ 2900 3844 2670 4047 \nQ 2441 4250 2034 4250 \nQ 1625 4250 1398 4047 \nQ 1172 3844 1172 3481 \nz\n\" transform=\"scale(0.015625)\"/>\n       </defs>\n       <use xlink:href=\"#DejaVuSans-38\"/>\n       <use xlink:href=\"#DejaVuSans-30\" x=\"63.623047\"/>\n       <use xlink:href=\"#DejaVuSans-30\" x=\"127.246094\"/>\n      </g>\n     </g>\n    </g>\n    <g id=\"ytick_6\">\n     <g id=\"line2d_63\">\n      <path d=\"M 60.0865 10.999219 \nL 417.2065 10.999219 \n\" clip-path=\"url(#p0ea68cde2b)\" style=\"fill: none; stroke-dasharray: 0.8,1.32; stroke-dashoffset: 0; stroke: #000000; stroke-opacity: 0.5; stroke-width: 0.8\"/>\n     </g>\n     <g id=\"line2d_64\">\n      <g>\n       <use xlink:href=\"#m61cd2ce399\" x=\"60.0865\" y=\"10.999219\" style=\"stroke: #000000\"/>\n      </g>\n     </g>\n     <g id=\"text_12\">\n      <!-- 1000 -->\n      <g transform=\"translate(31.1365 14.798437) scale(0.1 -0.1)\">\n       <use xlink:href=\"#DejaVuSans-31\"/>\n       <use xlink:href=\"#DejaVuSans-30\" x=\"63.623047\"/>\n       <use xlink:href=\"#DejaVuSans-30\" x=\"127.246094\"/>\n       <use xlink:href=\"#DejaVuSans-30\" x=\"190.869141\"/>\n      </g>\n     </g>\n    </g>\n    <g id=\"ytick_7\">\n     <g id=\"line2d_65\">\n      <path d=\"M 60.0865 251.983492 \nL 417.2065 251.983492 \n\" clip-path=\"url(#p0ea68cde2b)\" style=\"fill: none; stroke-dasharray: 0.8,1.32; stroke-dashoffset: 0; stroke: #000000; stroke-opacity: 0.5; stroke-width: 0.8\"/>\n     </g>\n     <g id=\"line2d_66\">\n      <defs>\n       <path id=\"md1b646309e\" d=\"M 0 0 \nL 5 0 \n\" style=\"stroke: #000000; stroke-width: 0.5\"/>\n      </defs>\n      <g>\n       <use xlink:href=\"#md1b646309e\" x=\"60.0865\" y=\"251.983492\" style=\"stroke: #000000; stroke-width: 0.5\"/>\n      </g>\n     </g>\n    </g>\n    <g id=\"ytick_8\">\n     <g id=\"line2d_67\">\n      <path d=\"M 60.0865 239.300109 \nL 417.2065 239.300109 \n\" clip-path=\"url(#p0ea68cde2b)\" style=\"fill: none; stroke-dasharray: 0.8,1.32; stroke-dashoffset: 0; stroke: #000000; stroke-opacity: 0.5; stroke-width: 0.8\"/>\n     </g>\n     <g id=\"line2d_68\">\n      <g>\n       <use xlink:href=\"#md1b646309e\" x=\"60.0865\" y=\"239.300109\" style=\"stroke: #000000; stroke-width: 0.5\"/>\n      </g>\n     </g>\n    </g>\n    <g id=\"ytick_9\">\n     <g id=\"line2d_69\">\n      <path d=\"M 60.0865 226.616726 \nL 417.2065 226.616726 \n\" clip-path=\"url(#p0ea68cde2b)\" style=\"fill: none; stroke-dasharray: 0.8,1.32; stroke-dashoffset: 0; stroke: #000000; stroke-opacity: 0.5; stroke-width: 0.8\"/>\n     </g>\n     <g id=\"line2d_70\">\n      <g>\n       <use xlink:href=\"#md1b646309e\" x=\"60.0865\" y=\"226.616726\" style=\"stroke: #000000; stroke-width: 0.5\"/>\n      </g>\n     </g>\n    </g>\n    <g id=\"ytick_10\">\n     <g id=\"line2d_71\">\n      <path d=\"M 60.0865 201.249961 \nL 417.2065 201.249961 \n\" clip-path=\"url(#p0ea68cde2b)\" style=\"fill: none; stroke-dasharray: 0.8,1.32; stroke-dashoffset: 0; stroke: #000000; stroke-opacity: 0.5; stroke-width: 0.8\"/>\n     </g>\n     <g id=\"line2d_72\">\n      <g>\n       <use xlink:href=\"#md1b646309e\" x=\"60.0865\" y=\"201.249961\" style=\"stroke: #000000; stroke-width: 0.5\"/>\n      </g>\n     </g>\n    </g>\n    <g id=\"ytick_11\">\n     <g id=\"line2d_73\">\n      <path d=\"M 60.0865 188.566578 \nL 417.2065 188.566578 \n\" clip-path=\"url(#p0ea68cde2b)\" style=\"fill: none; stroke-dasharray: 0.8,1.32; stroke-dashoffset: 0; stroke: #000000; stroke-opacity: 0.5; stroke-width: 0.8\"/>\n     </g>\n     <g id=\"line2d_74\">\n      <g>\n       <use xlink:href=\"#md1b646309e\" x=\"60.0865\" y=\"188.566578\" style=\"stroke: #000000; stroke-width: 0.5\"/>\n      </g>\n     </g>\n    </g>\n    <g id=\"ytick_12\">\n     <g id=\"line2d_75\">\n      <path d=\"M 60.0865 175.883195 \nL 417.2065 175.883195 \n\" clip-path=\"url(#p0ea68cde2b)\" style=\"fill: none; stroke-dasharray: 0.8,1.32; stroke-dashoffset: 0; stroke: #000000; stroke-opacity: 0.5; stroke-width: 0.8\"/>\n     </g>\n     <g id=\"line2d_76\">\n      <g>\n       <use xlink:href=\"#md1b646309e\" x=\"60.0865\" y=\"175.883195\" style=\"stroke: #000000; stroke-width: 0.5\"/>\n      </g>\n     </g>\n    </g>\n    <g id=\"ytick_13\">\n     <g id=\"line2d_77\">\n      <path d=\"M 60.0865 150.51643 \nL 417.2065 150.51643 \n\" clip-path=\"url(#p0ea68cde2b)\" style=\"fill: none; stroke-dasharray: 0.8,1.32; stroke-dashoffset: 0; stroke: #000000; stroke-opacity: 0.5; stroke-width: 0.8\"/>\n     </g>\n     <g id=\"line2d_78\">\n      <g>\n       <use xlink:href=\"#md1b646309e\" x=\"60.0865\" y=\"150.51643\" style=\"stroke: #000000; stroke-width: 0.5\"/>\n      </g>\n     </g>\n    </g>\n    <g id=\"ytick_14\">\n     <g id=\"line2d_79\">\n      <path d=\"M 60.0865 137.833047 \nL 417.2065 137.833047 \n\" clip-path=\"url(#p0ea68cde2b)\" style=\"fill: none; stroke-dasharray: 0.8,1.32; stroke-dashoffset: 0; stroke: #000000; stroke-opacity: 0.5; stroke-width: 0.8\"/>\n     </g>\n     <g id=\"line2d_80\">\n      <g>\n       <use xlink:href=\"#md1b646309e\" x=\"60.0865\" y=\"137.833047\" style=\"stroke: #000000; stroke-width: 0.5\"/>\n      </g>\n     </g>\n    </g>\n    <g id=\"ytick_15\">\n     <g id=\"line2d_81\">\n      <path d=\"M 60.0865 125.149664 \nL 417.2065 125.149664 \n\" clip-path=\"url(#p0ea68cde2b)\" style=\"fill: none; stroke-dasharray: 0.8,1.32; stroke-dashoffset: 0; stroke: #000000; stroke-opacity: 0.5; stroke-width: 0.8\"/>\n     </g>\n     <g id=\"line2d_82\">\n      <g>\n       <use xlink:href=\"#md1b646309e\" x=\"60.0865\" y=\"125.149664\" style=\"stroke: #000000; stroke-width: 0.5\"/>\n      </g>\n     </g>\n    </g>\n    <g id=\"ytick_16\">\n     <g id=\"line2d_83\">\n      <path d=\"M 60.0865 99.782898 \nL 417.2065 99.782898 \n\" clip-path=\"url(#p0ea68cde2b)\" style=\"fill: none; stroke-dasharray: 0.8,1.32; stroke-dashoffset: 0; stroke: #000000; stroke-opacity: 0.5; stroke-width: 0.8\"/>\n     </g>\n     <g id=\"line2d_84\">\n      <g>\n       <use xlink:href=\"#md1b646309e\" x=\"60.0865\" y=\"99.782898\" style=\"stroke: #000000; stroke-width: 0.5\"/>\n      </g>\n     </g>\n    </g>\n    <g id=\"ytick_17\">\n     <g id=\"line2d_85\">\n      <path d=\"M 60.0865 87.099516 \nL 417.2065 87.099516 \n\" clip-path=\"url(#p0ea68cde2b)\" style=\"fill: none; stroke-dasharray: 0.8,1.32; stroke-dashoffset: 0; stroke: #000000; stroke-opacity: 0.5; stroke-width: 0.8\"/>\n     </g>\n     <g id=\"line2d_86\">\n      <g>\n       <use xlink:href=\"#md1b646309e\" x=\"60.0865\" y=\"87.099516\" style=\"stroke: #000000; stroke-width: 0.5\"/>\n      </g>\n     </g>\n    </g>\n    <g id=\"ytick_18\">\n     <g id=\"line2d_87\">\n      <path d=\"M 60.0865 74.416133 \nL 417.2065 74.416133 \n\" clip-path=\"url(#p0ea68cde2b)\" style=\"fill: none; stroke-dasharray: 0.8,1.32; stroke-dashoffset: 0; stroke: #000000; stroke-opacity: 0.5; stroke-width: 0.8\"/>\n     </g>\n     <g id=\"line2d_88\">\n      <g>\n       <use xlink:href=\"#md1b646309e\" x=\"60.0865\" y=\"74.416133\" style=\"stroke: #000000; stroke-width: 0.5\"/>\n      </g>\n     </g>\n    </g>\n    <g id=\"ytick_19\">\n     <g id=\"line2d_89\">\n      <path d=\"M 60.0865 49.049367 \nL 417.2065 49.049367 \n\" clip-path=\"url(#p0ea68cde2b)\" style=\"fill: none; stroke-dasharray: 0.8,1.32; stroke-dashoffset: 0; stroke: #000000; stroke-opacity: 0.5; stroke-width: 0.8\"/>\n     </g>\n     <g id=\"line2d_90\">\n      <g>\n       <use xlink:href=\"#md1b646309e\" x=\"60.0865\" y=\"49.049367\" style=\"stroke: #000000; stroke-width: 0.5\"/>\n      </g>\n     </g>\n    </g>\n    <g id=\"ytick_20\">\n     <g id=\"line2d_91\">\n      <path d=\"M 60.0865 36.365984 \nL 417.2065 36.365984 \n\" clip-path=\"url(#p0ea68cde2b)\" style=\"fill: none; stroke-dasharray: 0.8,1.32; stroke-dashoffset: 0; stroke: #000000; stroke-opacity: 0.5; stroke-width: 0.8\"/>\n     </g>\n     <g id=\"line2d_92\">\n      <g>\n       <use xlink:href=\"#md1b646309e\" x=\"60.0865\" y=\"36.365984\" style=\"stroke: #000000; stroke-width: 0.5\"/>\n      </g>\n     </g>\n    </g>\n    <g id=\"ytick_21\">\n     <g id=\"line2d_93\">\n      <path d=\"M 60.0865 23.682602 \nL 417.2065 23.682602 \n\" clip-path=\"url(#p0ea68cde2b)\" style=\"fill: none; stroke-dasharray: 0.8,1.32; stroke-dashoffset: 0; stroke: #000000; stroke-opacity: 0.5; stroke-width: 0.8\"/>\n     </g>\n     <g id=\"line2d_94\">\n      <g>\n       <use xlink:href=\"#md1b646309e\" x=\"60.0865\" y=\"23.682602\" style=\"stroke: #000000; stroke-width: 0.5\"/>\n      </g>\n     </g>\n    </g>\n    <g id=\"text_13\">\n     <!-- Resistance [k$\\Omega$] -->\n     <g transform=\"translate(18.14175 200.421387) rotate(-90) scale(0.144 -0.144)\">\n      <defs>\n       <path id=\"DejaVuSans-52\" d=\"M 2841 2188 \nQ 3044 2119 3236 1894 \nQ 3428 1669 3622 1275 \nL 4263 0 \nL 3584 0 \nL 2988 1197 \nQ 2756 1666 2539 1819 \nQ 2322 1972 1947 1972 \nL 1259 1972 \nL 1259 0 \nL 628 0 \nL 628 4666 \nL 2053 4666 \nQ 2853 4666 3247 4331 \nQ 3641 3997 3641 3322 \nQ 3641 2881 3436 2590 \nQ 3231 2300 2841 2188 \nz\nM 1259 4147 \nL 1259 2491 \nL 2053 2491 \nQ 2509 2491 2742 2702 \nQ 2975 2913 2975 3322 \nQ 2975 3731 2742 3939 \nQ 2509 4147 2053 4147 \nL 1259 4147 \nz\n\" transform=\"scale(0.015625)\"/>\n       <path id=\"DejaVuSans-73\" d=\"M 2834 3397 \nL 2834 2853 \nQ 2591 2978 2328 3040 \nQ 2066 3103 1784 3103 \nQ 1356 3103 1142 2972 \nQ 928 2841 928 2578 \nQ 928 2378 1081 2264 \nQ 1234 2150 1697 2047 \nL 1894 2003 \nQ 2506 1872 2764 1633 \nQ 3022 1394 3022 966 \nQ 3022 478 2636 193 \nQ 2250 -91 1575 -91 \nQ 1294 -91 989 -36 \nQ 684 19 347 128 \nL 347 722 \nQ 666 556 975 473 \nQ 1284 391 1588 391 \nQ 1994 391 2212 530 \nQ 2431 669 2431 922 \nQ 2431 1156 2273 1281 \nQ 2116 1406 1581 1522 \nL 1381 1569 \nQ 847 1681 609 1914 \nQ 372 2147 372 2553 \nQ 372 3047 722 3315 \nQ 1072 3584 1716 3584 \nQ 2034 3584 2315 3537 \nQ 2597 3491 2834 3397 \nz\n\" transform=\"scale(0.015625)\"/>\n       <path id=\"DejaVuSans-69\" d=\"M 603 3500 \nL 1178 3500 \nL 1178 0 \nL 603 0 \nL 603 3500 \nz\nM 603 4863 \nL 1178 4863 \nL 1178 4134 \nL 603 4134 \nL 603 4863 \nz\n\" transform=\"scale(0.015625)\"/>\n       <path id=\"DejaVuSans-6e\" d=\"M 3513 2113 \nL 3513 0 \nL 2938 0 \nL 2938 2094 \nQ 2938 2591 2744 2837 \nQ 2550 3084 2163 3084 \nQ 1697 3084 1428 2787 \nQ 1159 2491 1159 1978 \nL 1159 0 \nL 581 0 \nL 581 3500 \nL 1159 3500 \nL 1159 2956 \nQ 1366 3272 1645 3428 \nQ 1925 3584 2291 3584 \nQ 2894 3584 3203 3211 \nQ 3513 2838 3513 2113 \nz\n\" transform=\"scale(0.015625)\"/>\n       <path id=\"DejaVuSans-63\" d=\"M 3122 3366 \nL 3122 2828 \nQ 2878 2963 2633 3030 \nQ 2388 3097 2138 3097 \nQ 1578 3097 1268 2742 \nQ 959 2388 959 1747 \nQ 959 1106 1268 751 \nQ 1578 397 2138 397 \nQ 2388 397 2633 464 \nQ 2878 531 3122 666 \nL 3122 134 \nQ 2881 22 2623 -34 \nQ 2366 -91 2075 -91 \nQ 1284 -91 818 406 \nQ 353 903 353 1747 \nQ 353 2603 823 3093 \nQ 1294 3584 2113 3584 \nQ 2378 3584 2631 3529 \nQ 2884 3475 3122 3366 \nz\n\" transform=\"scale(0.015625)\"/>\n       <path id=\"DejaVuSans-6b\" d=\"M 581 4863 \nL 1159 4863 \nL 1159 1991 \nL 2875 3500 \nL 3609 3500 \nL 1753 1863 \nL 3688 0 \nL 2938 0 \nL 1159 1709 \nL 1159 0 \nL 581 0 \nL 581 4863 \nz\n\" transform=\"scale(0.015625)\"/>\n       <path id=\"DejaVuSans-3a9\" d=\"M 4647 556 \nL 4647 0 \nL 2772 0 \nL 2772 556 \nQ 3325 859 3634 1378 \nQ 3944 1897 3944 2528 \nQ 3944 3278 3531 3731 \nQ 3119 4184 2444 4184 \nQ 1769 4184 1355 3729 \nQ 941 3275 941 2528 \nQ 941 1897 1250 1378 \nQ 1563 859 2119 556 \nL 2119 0 \nL 244 0 \nL 244 556 \nL 1241 556 \nQ 747 991 519 1456 \nQ 294 1922 294 2497 \nQ 294 3491 894 4106 \nQ 1491 4722 2444 4722 \nQ 3391 4722 3994 4106 \nQ 4594 3494 4594 2528 \nQ 4594 1922 4372 1459 \nQ 4150 997 3647 556 \nL 4647 556 \nz\n\" transform=\"scale(0.015625)\"/>\n      </defs>\n      <use xlink:href=\"#DejaVuSans-52\" transform=\"translate(0 0.015625)\"/>\n      <use xlink:href=\"#DejaVuSans-65\" transform=\"translate(69.482422 0.015625)\"/>\n      <use xlink:href=\"#DejaVuSans-73\" transform=\"translate(131.005859 0.015625)\"/>\n      <use xlink:href=\"#DejaVuSans-69\" transform=\"translate(183.105469 0.015625)\"/>\n      <use xlink:href=\"#DejaVuSans-73\" transform=\"translate(210.888672 0.015625)\"/>\n      <use xlink:href=\"#DejaVuSans-74\" transform=\"translate(262.988281 0.015625)\"/>\n      <use xlink:href=\"#DejaVuSans-61\" transform=\"translate(302.197266 0.015625)\"/>\n      <use xlink:href=\"#DejaVuSans-6e\" transform=\"translate(363.476562 0.015625)\"/>\n      <use xlink:href=\"#DejaVuSans-63\" transform=\"translate(426.855469 0.015625)\"/>\n      <use xlink:href=\"#DejaVuSans-65\" transform=\"translate(481.835938 0.015625)\"/>\n      <use xlink:href=\"#DejaVuSans-20\" transform=\"translate(543.359375 0.015625)\"/>\n      <use xlink:href=\"#DejaVuSans-5b\" transform=\"translate(575.146484 0.015625)\"/>\n      <use xlink:href=\"#DejaVuSans-6b\" transform=\"translate(614.160156 0.015625)\"/>\n      <use xlink:href=\"#DejaVuSans-3a9\" transform=\"translate(672.070312 0.015625)\"/>\n      <use xlink:href=\"#DejaVuSans-5d\" transform=\"translate(748.486328 0.015625)\"/>\n     </g>\n    </g>\n   </g>\n   <g id=\"line2d_95\">\n    <path d=\"M 76.319227 22.725387 \nL 78.348089 47.911236 \nL 80.376951 70.247561 \nL 82.405812 90.08061 \nL 84.434674 107.711798 \nL 86.463536 123.403933 \nL 88.492397 137.386394 \nL 90.521259 149.859646 \nL 92.550121 160.999086 \nL 94.578982 170.958372 \nL 96.607844 179.872269 \nL 98.771963 188.361229 \nL 100.936082 195.920972 \nL 103.100201 202.661241 \nL 105.264321 208.677933 \nL 107.42844 214.054942 \nL 109.592559 218.865772 \nL 111.891935 223.42887 \nL 114.191312 227.49312 \nL 116.490688 231.117521 \nL 118.925323 234.532859 \nL 121.359957 237.566068 \nL 123.929848 240.404299 \nL 126.499739 242.91552 \nL 129.204888 245.250437 \nL 132.045295 247.405669 \nL 135.020958 249.381473 \nL 138.13188 251.181169 \nL 141.513316 252.873515 \nL 145.030009 254.385712 \nL 148.817218 255.776029 \nL 153.010199 257.074845 \nL 157.608952 258.260186 \nL 162.613477 259.319599 \nL 168.29429 260.290283 \nL 174.65139 261.148433 \nL 182.090549 261.920651 \nL 190.747026 262.588167 \nL 201.161849 263.160048 \nL 214.011306 263.634541 \nL 230.647972 264.015959 \nL 253.641738 264.305934 \nL 288.673416 264.505608 \nL 354.002762 264.621189 \nL 400.937096 264.645387 \nL 400.937096 264.645387 \n\" clip-path=\"url(#p0ea68cde2b)\" style=\"fill: none; stroke: #0000ff; stroke-width: 1.5; stroke-linecap: square\"/>\n   </g>\n   <g id=\"line2d_96\">\n    <path d=\"M 76.361896 22.725387 \nL 78.38463 47.911236 \nL 80.407843 70.247561 \nL 82.431511 90.08061 \nL 84.455605 107.711798 \nL 86.480102 123.403933 \nL 88.504978 137.386394 \nL 90.530211 149.859646 \nL 92.555779 160.999086 \nL 94.581663 170.958372 \nL 96.607844 179.872269 \nL 98.769409 188.361229 \nL 100.93127 195.920972 \nL 103.093406 202.661241 \nL 105.2558 208.677933 \nL 107.418429 214.054942 \nL 109.581282 218.865772 \nL 111.879536 223.42887 \nL 114.178004 227.49312 \nL 116.476666 231.117521 \nL 118.910741 234.532859 \nL 121.344997 237.566068 \nL 123.914669 240.404299 \nL 126.484507 242.91552 \nL 129.189759 245.250437 \nL 132.030427 247.405669 \nL 135.006515 249.381473 \nL 138.118018 251.181169 \nL 141.500221 252.873515 \nL 145.017827 254.385712 \nL 148.806132 255.776029 \nL 153.000411 257.074845 \nL 157.600655 258.260186 \nL 162.606841 259.319599 \nL 168.289506 260.290283 \nL 174.64861 261.148433 \nL 182.089922 261.920651 \nL 190.748525 262.588167 \nL 201.165266 263.160048 \nL 214.016118 263.634541 \nL 230.653019 264.015959 \nL 253.644563 264.305934 \nL 288.80566 264.506077 \nL 354.138768 264.621296 \nL 400.973773 264.645387 \nL 400.973773 264.645387 \n\" clip-path=\"url(#p0ea68cde2b)\" style=\"fill: none; stroke: #ff0000; stroke-width: 1.5; stroke-linecap: square\"/>\n   </g>\n   <g id=\"line2d_97\">\n    <path d=\"M 76.355398 22.725387 \nL 78.378579 47.911236 \nL 80.40223 70.247561 \nL 82.426325 90.08061 \nL 84.450836 107.711798 \nL 86.475739 123.403933 \nL 88.501012 137.386394 \nL 90.526632 149.859646 \nL 92.552578 160.999086 \nL 94.57883 170.958372 \nL 96.605369 179.872269 \nL 98.767306 188.361229 \nL 100.929527 195.920972 \nL 103.092013 202.661241 \nL 105.254746 208.677933 \nL 107.417706 214.054942 \nL 109.580877 218.865772 \nL 111.879459 223.42887 \nL 114.178243 227.49312 \nL 116.477211 231.117521 \nL 118.911597 234.532859 \nL 121.346153 237.566068 \nL 123.916126 240.404299 \nL 126.486254 242.91552 \nL 129.191797 245.250437 \nL 132.032754 247.405669 \nL 135.009129 249.381473 \nL 138.120913 251.181169 \nL 141.503401 252.873515 \nL 145.021283 254.385712 \nL 148.809859 255.776029 \nL 153.004409 257.074845 \nL 157.604916 258.260186 \nL 162.611348 259.319599 \nL 168.294243 260.290283 \nL 174.653545 261.148433 \nL 182.095011 261.920651 \nL 190.753695 262.588167 \nL 201.170397 263.160048 \nL 214.021012 263.634541 \nL 230.65732 264.015959 \nL 253.647569 264.305934 \nL 288.805781 264.506077 \nL 354.131334 264.621296 \nL 400.959711 264.645387 \nL 400.959711 264.645387 \n\" clip-path=\"url(#p0ea68cde2b)\" style=\"fill: none; stroke: #ffa500; stroke-width: 1.5; stroke-linecap: square\"/>\n   </g>\n   <g id=\"patch_3\">\n    <path d=\"M 60.0865 276.741387 \nL 60.0865 10.629387 \n\" style=\"fill: none; stroke: #000000; stroke-width: 0.8; stroke-linejoin: miter; stroke-linecap: square\"/>\n   </g>\n   <g id=\"patch_4\">\n    <path d=\"M 417.2065 276.741387 \nL 417.2065 10.629387 \n\" style=\"fill: none; stroke: #000000; stroke-width: 0.8; stroke-linejoin: miter; stroke-linecap: square\"/>\n   </g>\n   <g id=\"patch_5\">\n    <path d=\"M 60.0865 276.741387 \nL 417.2065 276.741387 \n\" style=\"fill: none; stroke: #000000; stroke-width: 0.8; stroke-linejoin: miter; stroke-linecap: square\"/>\n   </g>\n   <g id=\"patch_6\">\n    <path d=\"M 60.0865 10.629387 \nL 417.2065 10.629387 \n\" style=\"fill: none; stroke: #000000; stroke-width: 0.8; stroke-linejoin: miter; stroke-linecap: square\"/>\n   </g>\n   <g id=\"legend_1\">\n    <g id=\"patch_7\">\n     <path d=\"M 293.48775 62.663762 \nL 410.2065 62.663762 \nQ 412.2065 62.663762 412.2065 60.663762 \nL 412.2065 17.629387 \nQ 412.2065 15.629387 410.2065 15.629387 \nL 293.48775 15.629387 \nQ 291.48775 15.629387 291.48775 17.629387 \nL 291.48775 60.663762 \nQ 291.48775 62.663762 293.48775 62.663762 \nz\n\" style=\"fill: #ffffff; opacity: 0.8; stroke: #cccccc; stroke-linejoin: miter\"/>\n    </g>\n    <g id=\"line2d_98\">\n     <path d=\"M 295.48775 23.727824 \nL 305.48775 23.727824 \nL 315.48775 23.727824 \n\" style=\"fill: none; stroke: #0000ff; stroke-width: 1.5; stroke-linecap: square\"/>\n    </g>\n    <g id=\"text_14\">\n     <!-- Datasheet -->\n     <g transform=\"translate(323.48775 27.227824) scale(0.1 -0.1)\">\n      <defs>\n       <path id=\"DejaVuSans-44\" d=\"M 1259 4147 \nL 1259 519 \nL 2022 519 \nQ 2988 519 3436 956 \nQ 3884 1394 3884 2338 \nQ 3884 3275 3436 3711 \nQ 2988 4147 2022 4147 \nL 1259 4147 \nz\nM 628 4666 \nL 1925 4666 \nQ 3281 4666 3915 4102 \nQ 4550 3538 4550 2338 \nQ 4550 1131 3912 565 \nQ 3275 0 1925 0 \nL 628 0 \nL 628 4666 \nz\n\" transform=\"scale(0.015625)\"/>\n       <path id=\"DejaVuSans-68\" d=\"M 3513 2113 \nL 3513 0 \nL 2938 0 \nL 2938 2094 \nQ 2938 2591 2744 2837 \nQ 2550 3084 2163 3084 \nQ 1697 3084 1428 2787 \nQ 1159 2491 1159 1978 \nL 1159 0 \nL 581 0 \nL 581 4863 \nL 1159 4863 \nL 1159 2956 \nQ 1366 3272 1645 3428 \nQ 1925 3584 2291 3584 \nQ 2894 3584 3203 3211 \nQ 3513 2838 3513 2113 \nz\n\" transform=\"scale(0.015625)\"/>\n      </defs>\n      <use xlink:href=\"#DejaVuSans-44\"/>\n      <use xlink:href=\"#DejaVuSans-61\" x=\"77.001953\"/>\n      <use xlink:href=\"#DejaVuSans-74\" x=\"138.28125\"/>\n      <use xlink:href=\"#DejaVuSans-61\" x=\"177.490234\"/>\n      <use xlink:href=\"#DejaVuSans-73\" x=\"238.769531\"/>\n      <use xlink:href=\"#DejaVuSans-68\" x=\"290.869141\"/>\n      <use xlink:href=\"#DejaVuSans-65\" x=\"354.248047\"/>\n      <use xlink:href=\"#DejaVuSans-65\" x=\"415.771484\"/>\n      <use xlink:href=\"#DejaVuSans-74\" x=\"477.294922\"/>\n     </g>\n    </g>\n    <g id=\"line2d_99\">\n     <path d=\"M 295.48775 38.405949 \nL 305.48775 38.405949 \nL 315.48775 38.405949 \n\" style=\"fill: none; stroke: #ff0000; stroke-width: 1.5; stroke-linecap: square\"/>\n    </g>\n    <g id=\"text_15\">\n     <!-- Steinhart-Hart -->\n     <g transform=\"translate(323.48775 41.905949) scale(0.1 -0.1)\">\n      <defs>\n       <path id=\"DejaVuSans-53\" d=\"M 3425 4513 \nL 3425 3897 \nQ 3066 4069 2747 4153 \nQ 2428 4238 2131 4238 \nQ 1616 4238 1336 4038 \nQ 1056 3838 1056 3469 \nQ 1056 3159 1242 3001 \nQ 1428 2844 1947 2747 \nL 2328 2669 \nQ 3034 2534 3370 2195 \nQ 3706 1856 3706 1288 \nQ 3706 609 3251 259 \nQ 2797 -91 1919 -91 \nQ 1588 -91 1214 -16 \nQ 841 59 441 206 \nL 441 856 \nQ 825 641 1194 531 \nQ 1563 422 1919 422 \nQ 2459 422 2753 634 \nQ 3047 847 3047 1241 \nQ 3047 1584 2836 1778 \nQ 2625 1972 2144 2069 \nL 1759 2144 \nQ 1053 2284 737 2584 \nQ 422 2884 422 3419 \nQ 422 4038 858 4394 \nQ 1294 4750 2059 4750 \nQ 2388 4750 2728 4690 \nQ 3069 4631 3425 4513 \nz\n\" transform=\"scale(0.015625)\"/>\n       <path id=\"DejaVuSans-2d\" d=\"M 313 2009 \nL 1997 2009 \nL 1997 1497 \nL 313 1497 \nL 313 2009 \nz\n\" transform=\"scale(0.015625)\"/>\n       <path id=\"DejaVuSans-48\" d=\"M 628 4666 \nL 1259 4666 \nL 1259 2753 \nL 3553 2753 \nL 3553 4666 \nL 4184 4666 \nL 4184 0 \nL 3553 0 \nL 3553 2222 \nL 1259 2222 \nL 1259 0 \nL 628 0 \nL 628 4666 \nz\n\" transform=\"scale(0.015625)\"/>\n      </defs>\n      <use xlink:href=\"#DejaVuSans-53\"/>\n      <use xlink:href=\"#DejaVuSans-74\" x=\"63.476562\"/>\n      <use xlink:href=\"#DejaVuSans-65\" x=\"102.685547\"/>\n      <use xlink:href=\"#DejaVuSans-69\" x=\"164.208984\"/>\n      <use xlink:href=\"#DejaVuSans-6e\" x=\"191.992188\"/>\n      <use xlink:href=\"#DejaVuSans-68\" x=\"255.371094\"/>\n      <use xlink:href=\"#DejaVuSans-61\" x=\"318.75\"/>\n      <use xlink:href=\"#DejaVuSans-72\" x=\"380.029297\"/>\n      <use xlink:href=\"#DejaVuSans-74\" x=\"421.142578\"/>\n      <use xlink:href=\"#DejaVuSans-2d\" x=\"460.351562\"/>\n      <use xlink:href=\"#DejaVuSans-48\" x=\"496.435547\"/>\n      <use xlink:href=\"#DejaVuSans-61\" x=\"571.630859\"/>\n      <use xlink:href=\"#DejaVuSans-72\" x=\"632.910156\"/>\n      <use xlink:href=\"#DejaVuSans-74\" x=\"674.023438\"/>\n     </g>\n    </g>\n    <g id=\"line2d_100\">\n     <path d=\"M 295.48775 53.084074 \nL 305.48775 53.084074 \nL 315.48775 53.084074 \n\" style=\"fill: none; stroke: #ffa500; stroke-width: 1.5; stroke-linecap: square\"/>\n    </g>\n    <g id=\"text_16\">\n     <!-- Steinhart-Hart fit -->\n     <g transform=\"translate(323.48775 56.584074) scale(0.1 -0.1)\">\n      <defs>\n       <path id=\"DejaVuSans-66\" d=\"M 2375 4863 \nL 2375 4384 \nL 1825 4384 \nQ 1516 4384 1395 4259 \nQ 1275 4134 1275 3809 \nL 1275 3500 \nL 2222 3500 \nL 2222 3053 \nL 1275 3053 \nL 1275 0 \nL 697 0 \nL 697 3053 \nL 147 3053 \nL 147 3500 \nL 697 3500 \nL 697 3744 \nQ 697 4328 969 4595 \nQ 1241 4863 1831 4863 \nL 2375 4863 \nz\n\" transform=\"scale(0.015625)\"/>\n      </defs>\n      <use xlink:href=\"#DejaVuSans-53\"/>\n      <use xlink:href=\"#DejaVuSans-74\" x=\"63.476562\"/>\n      <use xlink:href=\"#DejaVuSans-65\" x=\"102.685547\"/>\n      <use xlink:href=\"#DejaVuSans-69\" x=\"164.208984\"/>\n      <use xlink:href=\"#DejaVuSans-6e\" x=\"191.992188\"/>\n      <use xlink:href=\"#DejaVuSans-68\" x=\"255.371094\"/>\n      <use xlink:href=\"#DejaVuSans-61\" x=\"318.75\"/>\n      <use xlink:href=\"#DejaVuSans-72\" x=\"380.029297\"/>\n      <use xlink:href=\"#DejaVuSans-74\" x=\"421.142578\"/>\n      <use xlink:href=\"#DejaVuSans-2d\" x=\"460.351562\"/>\n      <use xlink:href=\"#DejaVuSans-48\" x=\"496.435547\"/>\n      <use xlink:href=\"#DejaVuSans-61\" x=\"571.630859\"/>\n      <use xlink:href=\"#DejaVuSans-72\" x=\"632.910156\"/>\n      <use xlink:href=\"#DejaVuSans-74\" x=\"674.023438\"/>\n      <use xlink:href=\"#DejaVuSans-20\" x=\"713.232422\"/>\n      <use xlink:href=\"#DejaVuSans-66\" x=\"745.019531\"/>\n      <use xlink:href=\"#DejaVuSans-69\" x=\"780.224609\"/>\n      <use xlink:href=\"#DejaVuSans-74\" x=\"808.007812\"/>\n     </g>\n    </g>\n   </g>\n  </g>\n </g>\n <defs>\n  <clipPath id=\"p0ea68cde2b\">\n   <rect x=\"60.0865\" y=\"10.629387\" width=\"357.12\" height=\"266.112\"/>\n  </clipPath>\n </defs>\n</svg>\n",
      "text/plain": [
       "<Figure size 640x480 with 1 Axes>"
      ]
     },
     "metadata": {},
     "output_type": "display_data"
    }
   ],
   "source": [
    "plt.plot(T, R*1e-3, \"b\", label=\"Datasheet\")\n",
    "plt.plot(steinhart_hart(R), R*1e-3, \"r\", label=\"Steinhart-Hart\")\n",
    "plt.plot(steinhart_curvefit(R, *popt), R*1e-3, \"orange\", label=\"Steinhart-Hart fit\")\n",
    "# plt.plot(res, np.abs(np.subtract(temp, steinhart_hart(res, *popt))), \"g\", label=\"error values\")\n",
    "plt.ylabel(\"Resistance [k$\\Omega$]\")\n",
    "plt.xlabel(\"Temperature [$\\degree$C]\")\n",
    "plt.legend()\n",
    "plt.show()"
   ]
  },
  {
   "attachments": {},
   "cell_type": "markdown",
   "metadata": {},
   "source": [
    "## Weatstone bridge\n",
    "<center><img src=\"https://upload.wikimedia.org/wikipedia/commons/9/93/Wheatstonebridge.svg\" width=300></center>\n",
    "\n",
    "The thermistor resistance $R_x$ is given by\n",
    "\\begin{gather}\n",
    "    R_x = R + \\Delta R \\ , \\tag{2}\n",
    "\\end{gather}\n",
    "\n",
    "where $R$ is the nominal thermistor resistance at 25&deg;C and $\\Delta R$ is the resistance change of the thermistor. From Kirchhoff's laws and the fact that $R_1=R_2=R_3=R$, we have\n",
    "\\begin{align}\n",
    "    V_G &= \\frac{V_{out}}{G} = B - D = V_s\\left[\\frac{R+\\Delta R}{2R+\\Delta R}-\\frac{1}{2}\\right] \\ , \\tag{3} \\\\[0.25cm]\n",
    "    &= \\frac{\\Delta R}{4R+2\\Delta R}V_s \\ , \\tag{4} \\\\[0.25cm]\n",
    "    \\Delta R &= -\\frac{4RV_{out}}{2V_{out}-GV_s} \\ , \\tag{5} \\\\[0.25cm]\n",
    "    R_x &= R+\\Delta R = R\\left(1 - \\frac{4V_{out}}{2V_{out}-GV_s}\\right) \\ , \\tag{6}\n",
    "\\end{align}\n",
    "\n",
    "where $V_s$ is the supply voltage, $V_{out}$ is the amplifier output voltage and $G$ is the amplifier gain."
   ]
  },
  {
   "cell_type": "code",
   "execution_count": 21,
   "metadata": {},
   "outputs": [],
   "source": [
    "def simulation(dV: float, G: float | int = 1, R: int = 10e3, Vs: float = 3.3) -> float:\n",
    "    \"\"\"Calculate thermistor temperature based on amplifier's output voltage.\n",
    "\n",
    "    Parameters:\n",
    "    -----------\n",
    "        dV : float\n",
    "            _description_\n",
    "        G : float or int, optional\n",
    "            Amplifier gain. Defaults to 1.\n",
    "        R : int, optional\n",
    "            Thermistor nominal resistance at 25°C. Defaults to 10 000.\n",
    "        Vs : float, optional\n",
    "            Weatstone bridge supply voltage in volts. Defaults to 3.3.\n",
    "\n",
    "    Returns:\n",
    "    --------\n",
    "        T : float\n",
    "            Thermistor temperature in °C.\n",
    "\n",
    "    \"\"\"\n",
    "    Rx = R*(1 - (4*dV) / (2*dV - G*Vs))\n",
    "    T = steinhart_hart(Rx)\n",
    "    return T"
   ]
  },
  {
   "attachments": {},
   "cell_type": "markdown",
   "metadata": {},
   "source": [
    "#### Simulation results"
   ]
  },
  {
   "cell_type": "code",
   "execution_count": 22,
   "metadata": {},
   "outputs": [
    {
     "name": "stdout",
     "output_type": "stream",
     "text": [
      "Temperature: 20.076°C\n"
     ]
    }
   ],
   "source": [
    "# Try with experimental values\n",
    "s = simulation(0.26892, G=1.494)\n",
    "print(f\"Temperature: {s:.3f}°C\")"
   ]
  },
  {
   "attachments": {},
   "cell_type": "markdown",
   "metadata": {},
   "source": [
    "## Current calculation"
   ]
  },
  {
   "cell_type": "code",
   "execution_count": 33,
   "metadata": {},
   "outputs": [],
   "source": [
    "def current(T: float, Vs: float = 3.3, n: int = 1) -> float:\n",
    "    \"\"\"Calculate thermistors current consumption.\n",
    "\n",
    "    Args:\n",
    "        T : float\n",
    "            Thermistor temperature in celsius\n",
    "        Vs : float, optional\n",
    "            Thermistors supply voltage. Defaults to 3.3V.\n",
    "        n : int, optional\n",
    "            Number of supplied thermistors per reading sequence. Defaults to 1.\n",
    "\n",
    "    Returns:\n",
    "        I : float\n",
    "            Total current consumption in amps.\n",
    "\n",
    "    \"\"\"\n",
    "    R = inv_steinhart(T)\n",
    "    error = 1/R + 1\n",
    "    I = Vs*n / (R + error)\n",
    "    return I"
   ]
  },
  {
   "cell_type": "code",
   "execution_count": 34,
   "metadata": {},
   "outputs": [
    {
     "data": {
      "text/plain": [
       "0.28951255001485615"
      ]
     },
     "execution_count": 34,
     "metadata": {},
     "output_type": "execute_result"
    }
   ],
   "source": [
    "# Test\n",
    "current(150, n=16)"
   ]
  }
 ],
 "metadata": {
  "kernelspec": {
   "display_name": "jupyter",
   "language": "python",
   "name": "python3"
  },
  "language_info": {
   "codemirror_mode": {
    "name": "ipython",
    "version": 3
   },
   "file_extension": ".py",
   "mimetype": "text/x-python",
   "name": "python",
   "nbconvert_exporter": "python",
   "pygments_lexer": "ipython3",
   "version": "3.10.8"
  },
  "orig_nbformat": 4,
  "vscode": {
   "interpreter": {
    "hash": "d8c8252bede13462a70591947a788797da6004cec599a8a734e0c20d59b6cd15"
   }
  }
 },
 "nbformat": 4,
 "nbformat_minor": 2
}
