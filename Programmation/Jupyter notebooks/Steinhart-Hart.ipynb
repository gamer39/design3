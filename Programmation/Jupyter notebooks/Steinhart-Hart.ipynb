{
 "cells": [
  {
   "attachments": {},
   "cell_type": "markdown",
   "metadata": {},
   "source": [
    "<center><h1>Steinhart-Hart equation solver</h2></center>"
   ]
  },
  {
   "attachments": {},
   "cell_type": "markdown",
   "metadata": {},
   "source": [
    "$$\\frac{1}{T}=A+B\\ln{R}+C(\\ln{R})^3$$\n",
    "$$\n",
    "\\begin{bmatrix}\n",
    "    1 & \\ln R_1 & \\ln^3 R_1 \\\\\n",
    "    1 & \\ln R_2 & \\ln^3 R_2 \\\\\n",
    "    1 & \\ln R_3 & \\ln^3 R_3\n",
    "\\end{bmatrix}\\begin{bmatrix}\n",
    "    A \\\\\n",
    "    B \\\\\n",
    "    C\n",
    "\\end{bmatrix} = \\begin{bmatrix}\n",
    "   \\frac{1}{T_1} \\\\\n",
    "   \\frac{1}{T_2} \\\\\n",
    "   \\frac{1}{T_3}\n",
    "\\end{bmatrix}$$"
   ]
  },
  {
   "cell_type": "code",
   "execution_count": 1,
   "metadata": {},
   "outputs": [],
   "source": [
    "import numpy as np"
   ]
  },
  {
   "attachments": {},
   "cell_type": "markdown",
   "metadata": {},
   "source": [
    "### Define variables"
   ]
  },
  {
   "cell_type": "code",
   "execution_count": 2,
   "metadata": {},
   "outputs": [],
   "source": [
    "# Temperature samples\n",
    "T1 = 1\n",
    "T2 = 2\n",
    "T3 = 3\n",
    "\n",
    "# Resistance values\n",
    "R1 = 1\n",
    "R2 = 2\n",
    "R3 = 3\n",
    "R = R1, R2, R3"
   ]
  },
  {
   "attachments": {},
   "cell_type": "markdown",
   "metadata": {},
   "source": [
    "### Solve matrix equation for $A$, $B$ and $C$"
   ]
  },
  {
   "cell_type": "code",
   "execution_count": 3,
   "metadata": {},
   "outputs": [],
   "source": [
    "\n",
    "mat1 = np.empty((3, 3))\n",
    "mat1[0,:] = np.array((1, np.log(R1), np.log(R1)**3))\n",
    "mat1[1,:] = np.array((1, np.log(R2), np.log(R2)**3))\n",
    "mat1[2,:] = np.array((1, np.log(R3), np.log(R3)**3))\n",
    "\n",
    "mat2 = np.array((1/T1, 1/T2, 1/T3)).reshape((3,1))\n",
    "a, b, c = np.linalg.solve(mat1, mat2)"
   ]
  },
  {
   "attachments": {},
   "cell_type": "markdown",
   "metadata": {},
   "source": [
    "### Build function"
   ]
  },
  {
   "cell_type": "code",
   "execution_count": 4,
   "metadata": {},
   "outputs": [],
   "source": [
    "def temperature(R):\n",
    "    t = a + b*np.log(R) + c*(np.log(R))**3\n",
    "    return float(t)"
   ]
  },
  {
   "cell_type": "code",
   "execution_count": 5,
   "metadata": {},
   "outputs": [
    {
     "data": {
      "text/plain": [
       "77.9073411699885"
      ]
     },
     "execution_count": 5,
     "metadata": {},
     "output_type": "execute_result"
    }
   ],
   "source": [
    "temperature(3250)"
   ]
  }
 ],
 "metadata": {
  "kernelspec": {
   "display_name": "jupyter",
   "language": "python",
   "name": "python3"
  },
  "language_info": {
   "codemirror_mode": {
    "name": "ipython",
    "version": 3
   },
   "file_extension": ".py",
   "mimetype": "text/x-python",
   "name": "python",
   "nbconvert_exporter": "python",
   "pygments_lexer": "ipython3",
   "version": "3.10.8"
  },
  "orig_nbformat": 4,
  "vscode": {
   "interpreter": {
    "hash": "d8c8252bede13462a70591947a788797da6004cec599a8a734e0c20d59b6cd15"
   }
  }
 },
 "nbformat": 4,
 "nbformat_minor": 2
}
